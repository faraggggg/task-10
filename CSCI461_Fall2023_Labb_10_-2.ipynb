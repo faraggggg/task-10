{
 "cells": [
  {
   "cell_type": "markdown",
   "metadata": {
    "id": "fowUHvHSGYGS"
   },
   "source": [
    "# CSCI461 - Fall 2023 - Lab #10 (DataFrames, SQL functionality in Spark, MLlib (Machine Learning library in Spark))"
   ]
  },
  {
   "cell_type": "markdown",
   "metadata": {
    "id": "1p1qlQSFGlXf"
   },
   "source": [
    "## Installing Pyspark"
   ]
  },
  {
   "cell_type": "code",
   "execution_count": null,
   "metadata": {
    "colab": {
     "base_uri": "https://localhost:8080/"
    },
    "id": "HwEkDhG0Db2y",
    "outputId": "cc3c71bf-c317-40f6-8edf-91041800439c"
   },
   "outputs": [
    {
     "name": "stdout",
     "output_type": "stream",
     "text": [
      "Requirement already satisfied: pyspark in /usr/local/lib/python3.10/dist-packages (3.5.0)\n",
      "Requirement already satisfied: py4j==0.10.9.7 in /usr/local/lib/python3.10/dist-packages (from pyspark) (0.10.9.7)\n"
     ]
    }
   ],
   "source": [
    "!pip install pyspark"
   ]
  },
  {
   "cell_type": "code",
   "execution_count": null,
   "metadata": {
    "colab": {
     "base_uri": "https://localhost:8080/",
     "height": 219
    },
    "id": "Lg_3-UscIEPn",
    "outputId": "824abfe1-284e-4922-8743-88bb9732bff6"
   },
   "outputs": [
    {
     "data": {
      "text/html": [
       "\n",
       "            <div>\n",
       "                <p><b>SparkSession - in-memory</b></p>\n",
       "                \n",
       "        <div>\n",
       "            <p><b>SparkContext</b></p>\n",
       "\n",
       "            <p><a href=\"http://80958f745e58:4040\">Spark UI</a></p>\n",
       "\n",
       "            <dl>\n",
       "              <dt>Version</dt>\n",
       "                <dd><code>v3.5.0</code></dd>\n",
       "              <dt>Master</dt>\n",
       "                <dd><code>local[*]</code></dd>\n",
       "              <dt>AppName</dt>\n",
       "                <dd><code>pyspark-shell</code></dd>\n",
       "            </dl>\n",
       "        </div>\n",
       "        \n",
       "            </div>\n",
       "        "
      ],
      "text/plain": [
       "<pyspark.sql.session.SparkSession at 0x799696fe8df0>"
      ]
     },
     "execution_count": 71,
     "metadata": {},
     "output_type": "execute_result"
    }
   ],
   "source": [
    "from pyspark.sql import SparkSession\n",
    "spark = SparkSession.builder.master(\"local[*]\").getOrCreate()\n",
    "spark.conf.set(\"spark.sql.repl.eagerEval.enabled\", True) # Property used to format output tables better\n",
    "spark"
   ]
  },
  {
   "cell_type": "markdown",
   "metadata": {
    "id": "75duualKHzFA"
   },
   "source": [
    "## Data Frame Operations"
   ]
  },
  {
   "cell_type": "code",
   "execution_count": null,
   "metadata": {
    "id": "vISD0XxyHwXf"
   },
   "outputs": [],
   "source": [
    "auto_df = spark.read.format(\"csv\").option(\"header\", True).load(\"/content/auto-mpg.csv\")"
   ]
  },
  {
   "cell_type": "code",
   "execution_count": null,
   "metadata": {
    "colab": {
     "base_uri": "https://localhost:8080/",
     "height": 529
    },
    "id": "lSEdG4ApIyXh",
    "outputId": "dfc73618-3099-4f17-cb61-0b7270e3368e"
   },
   "outputs": [
    {
     "data": {
      "text/html": [
       "<table border='1'>\n",
       "<tr><th>mpg</th><th>cylinders</th><th>displacement</th><th>horsepower</th><th>weight</th><th>acceleration</th><th>modelyear</th><th>origin</th><th>carname</th></tr>\n",
       "<tr><td>18.0</td><td>8</td><td>307.0</td><td>130.0</td><td>3504.</td><td>12.0</td><td>70</td><td>1</td><td>chevrolet chevell...</td></tr>\n",
       "<tr><td>15.0</td><td>8</td><td>350.0</td><td>165.0</td><td>3693.</td><td>11.5</td><td>70</td><td>1</td><td>buick skylark 320</td></tr>\n",
       "<tr><td>18.0</td><td>8</td><td>318.0</td><td>150.0</td><td>3436.</td><td>11.0</td><td>70</td><td>1</td><td>plymouth satellite</td></tr>\n",
       "<tr><td>16.0</td><td>8</td><td>304.0</td><td>150.0</td><td>3433.</td><td>12.0</td><td>70</td><td>1</td><td>amc rebel sst</td></tr>\n",
       "<tr><td>17.0</td><td>8</td><td>302.0</td><td>140.0</td><td>3449.</td><td>10.5</td><td>70</td><td>1</td><td>ford torino</td></tr>\n",
       "<tr><td>15.0</td><td>8</td><td>429.0</td><td>198.0</td><td>4341.</td><td>10.0</td><td>70</td><td>1</td><td>ford galaxie 500</td></tr>\n",
       "<tr><td>14.0</td><td>8</td><td>454.0</td><td>220.0</td><td>4354.</td><td>9.0</td><td>70</td><td>1</td><td>chevrolet impala</td></tr>\n",
       "<tr><td>14.0</td><td>8</td><td>440.0</td><td>215.0</td><td>4312.</td><td>8.5</td><td>70</td><td>1</td><td>plymouth fury iii</td></tr>\n",
       "<tr><td>14.0</td><td>8</td><td>455.0</td><td>225.0</td><td>4425.</td><td>10.0</td><td>70</td><td>1</td><td>pontiac catalina</td></tr>\n",
       "<tr><td>15.0</td><td>8</td><td>390.0</td><td>190.0</td><td>3850.</td><td>8.5</td><td>70</td><td>1</td><td>amc ambassador dpl</td></tr>\n",
       "<tr><td>15.0</td><td>8</td><td>383.0</td><td>170.0</td><td>3563.</td><td>10.0</td><td>70</td><td>1</td><td>dodge challenger se</td></tr>\n",
       "<tr><td>14.0</td><td>8</td><td>340.0</td><td>160.0</td><td>3609.</td><td>8.0</td><td>70</td><td>1</td><td>plymouth 'cuda 340</td></tr>\n",
       "<tr><td>15.0</td><td>8</td><td>400.0</td><td>150.0</td><td>3761.</td><td>9.5</td><td>70</td><td>1</td><td>chevrolet monte c...</td></tr>\n",
       "<tr><td>14.0</td><td>8</td><td>455.0</td><td>225.0</td><td>3086.</td><td>10.0</td><td>70</td><td>1</td><td>buick estate wago...</td></tr>\n",
       "<tr><td>24.0</td><td>4</td><td>113.0</td><td>95.00</td><td>2372.</td><td>15.0</td><td>70</td><td>3</td><td>toyota corona mar...</td></tr>\n",
       "<tr><td>22.0</td><td>6</td><td>198.0</td><td>95.00</td><td>2833.</td><td>15.5</td><td>70</td><td>1</td><td>plymouth duster</td></tr>\n",
       "<tr><td>18.0</td><td>6</td><td>199.0</td><td>97.00</td><td>2774.</td><td>15.5</td><td>70</td><td>1</td><td>amc hornet</td></tr>\n",
       "<tr><td>21.0</td><td>6</td><td>200.0</td><td>85.00</td><td>2587.</td><td>16.0</td><td>70</td><td>1</td><td>ford maverick</td></tr>\n",
       "<tr><td>27.0</td><td>4</td><td>97.00</td><td>88.00</td><td>2130.</td><td>14.5</td><td>70</td><td>3</td><td>datsun pl510</td></tr>\n",
       "<tr><td>26.0</td><td>4</td><td>97.00</td><td>46.00</td><td>1835.</td><td>20.5</td><td>70</td><td>2</td><td>volkswagen 1131 d...</td></tr>\n",
       "</table>\n",
       "only showing top 20 rows\n"
      ],
      "text/plain": [
       "+----+---------+------------+----------+------+------------+---------+------+--------------------+\n",
       "| mpg|cylinders|displacement|horsepower|weight|acceleration|modelyear|origin|             carname|\n",
       "+----+---------+------------+----------+------+------------+---------+------+--------------------+\n",
       "|18.0|        8|       307.0|     130.0| 3504.|        12.0|       70|     1|chevrolet chevell...|\n",
       "|15.0|        8|       350.0|     165.0| 3693.|        11.5|       70|     1|   buick skylark 320|\n",
       "|18.0|        8|       318.0|     150.0| 3436.|        11.0|       70|     1|  plymouth satellite|\n",
       "|16.0|        8|       304.0|     150.0| 3433.|        12.0|       70|     1|       amc rebel sst|\n",
       "|17.0|        8|       302.0|     140.0| 3449.|        10.5|       70|     1|         ford torino|\n",
       "|15.0|        8|       429.0|     198.0| 4341.|        10.0|       70|     1|    ford galaxie 500|\n",
       "|14.0|        8|       454.0|     220.0| 4354.|         9.0|       70|     1|    chevrolet impala|\n",
       "|14.0|        8|       440.0|     215.0| 4312.|         8.5|       70|     1|   plymouth fury iii|\n",
       "|14.0|        8|       455.0|     225.0| 4425.|        10.0|       70|     1|    pontiac catalina|\n",
       "|15.0|        8|       390.0|     190.0| 3850.|         8.5|       70|     1|  amc ambassador dpl|\n",
       "|15.0|        8|       383.0|     170.0| 3563.|        10.0|       70|     1| dodge challenger se|\n",
       "|14.0|        8|       340.0|     160.0| 3609.|         8.0|       70|     1|  plymouth 'cuda 340|\n",
       "|15.0|        8|       400.0|     150.0| 3761.|         9.5|       70|     1|chevrolet monte c...|\n",
       "|14.0|        8|       455.0|     225.0| 3086.|        10.0|       70|     1|buick estate wago...|\n",
       "|24.0|        4|       113.0|     95.00| 2372.|        15.0|       70|     3|toyota corona mar...|\n",
       "|22.0|        6|       198.0|     95.00| 2833.|        15.5|       70|     1|     plymouth duster|\n",
       "|18.0|        6|       199.0|     97.00| 2774.|        15.5|       70|     1|          amc hornet|\n",
       "|21.0|        6|       200.0|     85.00| 2587.|        16.0|       70|     1|       ford maverick|\n",
       "|27.0|        4|       97.00|     88.00| 2130.|        14.5|       70|     3|        datsun pl510|\n",
       "|26.0|        4|       97.00|     46.00| 1835.|        20.5|       70|     2|volkswagen 1131 d...|\n",
       "+----+---------+------------+----------+------+------------+---------+------+--------------------+\n",
       "only showing top 20 rows"
      ]
     },
     "execution_count": 6,
     "metadata": {},
     "output_type": "execute_result"
    }
   ],
   "source": [
    "auto_df"
   ]
  },
  {
   "cell_type": "markdown",
   "metadata": {
    "id": "1MjONZMAI45S"
   },
   "source": [
    "### Inserting a new field to a Data Frame"
   ]
  },
  {
   "cell_type": "code",
   "execution_count": null,
   "metadata": {
    "id": "nlKACPoAI0wz"
   },
   "outputs": [],
   "source": [
    "from pyspark.sql.functions import upper, lower\n",
    "\n",
    "auto_df = auto_df.withColumn(\"upper\", upper(auto_df.carname)).withColumn(\n",
    "    \"lower\", lower(auto_df.carname)\n",
    ")"
   ]
  },
  {
   "cell_type": "code",
   "execution_count": null,
   "metadata": {
    "colab": {
     "base_uri": "https://localhost:8080/",
     "height": 529
    },
    "id": "EhLiuCqMJIcn",
    "outputId": "945e486a-085c-4699-9ab6-277355d94da3"
   },
   "outputs": [
    {
     "data": {
      "text/html": [
       "<table border='1'>\n",
       "<tr><th>mpg</th><th>cylinders</th><th>displacement</th><th>horsepower</th><th>weight</th><th>acceleration</th><th>modelyear</th><th>origin</th><th>carname</th><th>upper</th><th>lower</th></tr>\n",
       "<tr><td>18.0</td><td>8</td><td>307.0</td><td>130.0</td><td>3504.</td><td>12.0</td><td>70</td><td>1</td><td>chevrolet chevell...</td><td>CHEVROLET CHEVELL...</td><td>chevrolet chevell...</td></tr>\n",
       "<tr><td>15.0</td><td>8</td><td>350.0</td><td>165.0</td><td>3693.</td><td>11.5</td><td>70</td><td>1</td><td>buick skylark 320</td><td>BUICK SKYLARK 320</td><td>buick skylark 320</td></tr>\n",
       "<tr><td>18.0</td><td>8</td><td>318.0</td><td>150.0</td><td>3436.</td><td>11.0</td><td>70</td><td>1</td><td>plymouth satellite</td><td>PLYMOUTH SATELLITE</td><td>plymouth satellite</td></tr>\n",
       "<tr><td>16.0</td><td>8</td><td>304.0</td><td>150.0</td><td>3433.</td><td>12.0</td><td>70</td><td>1</td><td>amc rebel sst</td><td>AMC REBEL SST</td><td>amc rebel sst</td></tr>\n",
       "<tr><td>17.0</td><td>8</td><td>302.0</td><td>140.0</td><td>3449.</td><td>10.5</td><td>70</td><td>1</td><td>ford torino</td><td>FORD TORINO</td><td>ford torino</td></tr>\n",
       "<tr><td>15.0</td><td>8</td><td>429.0</td><td>198.0</td><td>4341.</td><td>10.0</td><td>70</td><td>1</td><td>ford galaxie 500</td><td>FORD GALAXIE 500</td><td>ford galaxie 500</td></tr>\n",
       "<tr><td>14.0</td><td>8</td><td>454.0</td><td>220.0</td><td>4354.</td><td>9.0</td><td>70</td><td>1</td><td>chevrolet impala</td><td>CHEVROLET IMPALA</td><td>chevrolet impala</td></tr>\n",
       "<tr><td>14.0</td><td>8</td><td>440.0</td><td>215.0</td><td>4312.</td><td>8.5</td><td>70</td><td>1</td><td>plymouth fury iii</td><td>PLYMOUTH FURY III</td><td>plymouth fury iii</td></tr>\n",
       "<tr><td>14.0</td><td>8</td><td>455.0</td><td>225.0</td><td>4425.</td><td>10.0</td><td>70</td><td>1</td><td>pontiac catalina</td><td>PONTIAC CATALINA</td><td>pontiac catalina</td></tr>\n",
       "<tr><td>15.0</td><td>8</td><td>390.0</td><td>190.0</td><td>3850.</td><td>8.5</td><td>70</td><td>1</td><td>amc ambassador dpl</td><td>AMC AMBASSADOR DPL</td><td>amc ambassador dpl</td></tr>\n",
       "<tr><td>15.0</td><td>8</td><td>383.0</td><td>170.0</td><td>3563.</td><td>10.0</td><td>70</td><td>1</td><td>dodge challenger se</td><td>DODGE CHALLENGER SE</td><td>dodge challenger se</td></tr>\n",
       "<tr><td>14.0</td><td>8</td><td>340.0</td><td>160.0</td><td>3609.</td><td>8.0</td><td>70</td><td>1</td><td>plymouth 'cuda 340</td><td>PLYMOUTH 'CUDA 340</td><td>plymouth 'cuda 340</td></tr>\n",
       "<tr><td>15.0</td><td>8</td><td>400.0</td><td>150.0</td><td>3761.</td><td>9.5</td><td>70</td><td>1</td><td>chevrolet monte c...</td><td>CHEVROLET MONTE C...</td><td>chevrolet monte c...</td></tr>\n",
       "<tr><td>14.0</td><td>8</td><td>455.0</td><td>225.0</td><td>3086.</td><td>10.0</td><td>70</td><td>1</td><td>buick estate wago...</td><td>BUICK ESTATE WAGO...</td><td>buick estate wago...</td></tr>\n",
       "<tr><td>24.0</td><td>4</td><td>113.0</td><td>95.00</td><td>2372.</td><td>15.0</td><td>70</td><td>3</td><td>toyota corona mar...</td><td>TOYOTA CORONA MAR...</td><td>toyota corona mar...</td></tr>\n",
       "<tr><td>22.0</td><td>6</td><td>198.0</td><td>95.00</td><td>2833.</td><td>15.5</td><td>70</td><td>1</td><td>plymouth duster</td><td>PLYMOUTH DUSTER</td><td>plymouth duster</td></tr>\n",
       "<tr><td>18.0</td><td>6</td><td>199.0</td><td>97.00</td><td>2774.</td><td>15.5</td><td>70</td><td>1</td><td>amc hornet</td><td>AMC HORNET</td><td>amc hornet</td></tr>\n",
       "<tr><td>21.0</td><td>6</td><td>200.0</td><td>85.00</td><td>2587.</td><td>16.0</td><td>70</td><td>1</td><td>ford maverick</td><td>FORD MAVERICK</td><td>ford maverick</td></tr>\n",
       "<tr><td>27.0</td><td>4</td><td>97.00</td><td>88.00</td><td>2130.</td><td>14.5</td><td>70</td><td>3</td><td>datsun pl510</td><td>DATSUN PL510</td><td>datsun pl510</td></tr>\n",
       "<tr><td>26.0</td><td>4</td><td>97.00</td><td>46.00</td><td>1835.</td><td>20.5</td><td>70</td><td>2</td><td>volkswagen 1131 d...</td><td>VOLKSWAGEN 1131 D...</td><td>volkswagen 1131 d...</td></tr>\n",
       "</table>\n",
       "only showing top 20 rows\n"
      ],
      "text/plain": [
       "+----+---------+------------+----------+------+------------+---------+------+--------------------+--------------------+--------------------+\n",
       "| mpg|cylinders|displacement|horsepower|weight|acceleration|modelyear|origin|             carname|               upper|               lower|\n",
       "+----+---------+------------+----------+------+------------+---------+------+--------------------+--------------------+--------------------+\n",
       "|18.0|        8|       307.0|     130.0| 3504.|        12.0|       70|     1|chevrolet chevell...|CHEVROLET CHEVELL...|chevrolet chevell...|\n",
       "|15.0|        8|       350.0|     165.0| 3693.|        11.5|       70|     1|   buick skylark 320|   BUICK SKYLARK 320|   buick skylark 320|\n",
       "|18.0|        8|       318.0|     150.0| 3436.|        11.0|       70|     1|  plymouth satellite|  PLYMOUTH SATELLITE|  plymouth satellite|\n",
       "|16.0|        8|       304.0|     150.0| 3433.|        12.0|       70|     1|       amc rebel sst|       AMC REBEL SST|       amc rebel sst|\n",
       "|17.0|        8|       302.0|     140.0| 3449.|        10.5|       70|     1|         ford torino|         FORD TORINO|         ford torino|\n",
       "|15.0|        8|       429.0|     198.0| 4341.|        10.0|       70|     1|    ford galaxie 500|    FORD GALAXIE 500|    ford galaxie 500|\n",
       "|14.0|        8|       454.0|     220.0| 4354.|         9.0|       70|     1|    chevrolet impala|    CHEVROLET IMPALA|    chevrolet impala|\n",
       "|14.0|        8|       440.0|     215.0| 4312.|         8.5|       70|     1|   plymouth fury iii|   PLYMOUTH FURY III|   plymouth fury iii|\n",
       "|14.0|        8|       455.0|     225.0| 4425.|        10.0|       70|     1|    pontiac catalina|    PONTIAC CATALINA|    pontiac catalina|\n",
       "|15.0|        8|       390.0|     190.0| 3850.|         8.5|       70|     1|  amc ambassador dpl|  AMC AMBASSADOR DPL|  amc ambassador dpl|\n",
       "|15.0|        8|       383.0|     170.0| 3563.|        10.0|       70|     1| dodge challenger se| DODGE CHALLENGER SE| dodge challenger se|\n",
       "|14.0|        8|       340.0|     160.0| 3609.|         8.0|       70|     1|  plymouth 'cuda 340|  PLYMOUTH 'CUDA 340|  plymouth 'cuda 340|\n",
       "|15.0|        8|       400.0|     150.0| 3761.|         9.5|       70|     1|chevrolet monte c...|CHEVROLET MONTE C...|chevrolet monte c...|\n",
       "|14.0|        8|       455.0|     225.0| 3086.|        10.0|       70|     1|buick estate wago...|BUICK ESTATE WAGO...|buick estate wago...|\n",
       "|24.0|        4|       113.0|     95.00| 2372.|        15.0|       70|     3|toyota corona mar...|TOYOTA CORONA MAR...|toyota corona mar...|\n",
       "|22.0|        6|       198.0|     95.00| 2833.|        15.5|       70|     1|     plymouth duster|     PLYMOUTH DUSTER|     plymouth duster|\n",
       "|18.0|        6|       199.0|     97.00| 2774.|        15.5|       70|     1|          amc hornet|          AMC HORNET|          amc hornet|\n",
       "|21.0|        6|       200.0|     85.00| 2587.|        16.0|       70|     1|       ford maverick|       FORD MAVERICK|       ford maverick|\n",
       "|27.0|        4|       97.00|     88.00| 2130.|        14.5|       70|     3|        datsun pl510|        DATSUN PL510|        datsun pl510|\n",
       "|26.0|        4|       97.00|     46.00| 1835.|        20.5|       70|     2|volkswagen 1131 d...|VOLKSWAGEN 1131 D...|volkswagen 1131 d...|\n",
       "+----+---------+------------+----------+------+------------+---------+------+--------------------+--------------------+--------------------+\n",
       "only showing top 20 rows"
      ]
     },
     "execution_count": 8,
     "metadata": {},
     "output_type": "execute_result"
    }
   ],
   "source": [
    "auto_df"
   ]
  },
  {
   "cell_type": "markdown",
   "metadata": {
    "id": "4sdSfs7yJUE_"
   },
   "source": [
    "### Alter a Data Frame field"
   ]
  },
  {
   "cell_type": "code",
   "execution_count": null,
   "metadata": {
    "id": "GD7ZacjMJWAi"
   },
   "outputs": [],
   "source": [
    "from pyspark.sql.functions import col, concat, lit\n",
    "\n",
    "auto_df = auto_df.withColumn(\"modelyear\", concat(lit(\"19\"), col(\"modelyear\")))"
   ]
  },
  {
   "cell_type": "code",
   "execution_count": null,
   "metadata": {
    "colab": {
     "base_uri": "https://localhost:8080/",
     "height": 529
    },
    "id": "GmzE96uIJYT2",
    "outputId": "29d08952-5972-41b3-ec8c-f39a8653ca42"
   },
   "outputs": [
    {
     "data": {
      "text/html": [
       "<table border='1'>\n",
       "<tr><th>mpg</th><th>cylinders</th><th>displacement</th><th>horsepower</th><th>weight</th><th>acceleration</th><th>modelyear</th><th>origin</th><th>carname</th><th>upper</th><th>lower</th></tr>\n",
       "<tr><td>18.0</td><td>8</td><td>307.0</td><td>130.0</td><td>3504.</td><td>12.0</td><td>1970</td><td>1</td><td>chevrolet chevell...</td><td>CHEVROLET CHEVELL...</td><td>chevrolet chevell...</td></tr>\n",
       "<tr><td>15.0</td><td>8</td><td>350.0</td><td>165.0</td><td>3693.</td><td>11.5</td><td>1970</td><td>1</td><td>buick skylark 320</td><td>BUICK SKYLARK 320</td><td>buick skylark 320</td></tr>\n",
       "<tr><td>18.0</td><td>8</td><td>318.0</td><td>150.0</td><td>3436.</td><td>11.0</td><td>1970</td><td>1</td><td>plymouth satellite</td><td>PLYMOUTH SATELLITE</td><td>plymouth satellite</td></tr>\n",
       "<tr><td>16.0</td><td>8</td><td>304.0</td><td>150.0</td><td>3433.</td><td>12.0</td><td>1970</td><td>1</td><td>amc rebel sst</td><td>AMC REBEL SST</td><td>amc rebel sst</td></tr>\n",
       "<tr><td>17.0</td><td>8</td><td>302.0</td><td>140.0</td><td>3449.</td><td>10.5</td><td>1970</td><td>1</td><td>ford torino</td><td>FORD TORINO</td><td>ford torino</td></tr>\n",
       "<tr><td>15.0</td><td>8</td><td>429.0</td><td>198.0</td><td>4341.</td><td>10.0</td><td>1970</td><td>1</td><td>ford galaxie 500</td><td>FORD GALAXIE 500</td><td>ford galaxie 500</td></tr>\n",
       "<tr><td>14.0</td><td>8</td><td>454.0</td><td>220.0</td><td>4354.</td><td>9.0</td><td>1970</td><td>1</td><td>chevrolet impala</td><td>CHEVROLET IMPALA</td><td>chevrolet impala</td></tr>\n",
       "<tr><td>14.0</td><td>8</td><td>440.0</td><td>215.0</td><td>4312.</td><td>8.5</td><td>1970</td><td>1</td><td>plymouth fury iii</td><td>PLYMOUTH FURY III</td><td>plymouth fury iii</td></tr>\n",
       "<tr><td>14.0</td><td>8</td><td>455.0</td><td>225.0</td><td>4425.</td><td>10.0</td><td>1970</td><td>1</td><td>pontiac catalina</td><td>PONTIAC CATALINA</td><td>pontiac catalina</td></tr>\n",
       "<tr><td>15.0</td><td>8</td><td>390.0</td><td>190.0</td><td>3850.</td><td>8.5</td><td>1970</td><td>1</td><td>amc ambassador dpl</td><td>AMC AMBASSADOR DPL</td><td>amc ambassador dpl</td></tr>\n",
       "<tr><td>15.0</td><td>8</td><td>383.0</td><td>170.0</td><td>3563.</td><td>10.0</td><td>1970</td><td>1</td><td>dodge challenger se</td><td>DODGE CHALLENGER SE</td><td>dodge challenger se</td></tr>\n",
       "<tr><td>14.0</td><td>8</td><td>340.0</td><td>160.0</td><td>3609.</td><td>8.0</td><td>1970</td><td>1</td><td>plymouth 'cuda 340</td><td>PLYMOUTH 'CUDA 340</td><td>plymouth 'cuda 340</td></tr>\n",
       "<tr><td>15.0</td><td>8</td><td>400.0</td><td>150.0</td><td>3761.</td><td>9.5</td><td>1970</td><td>1</td><td>chevrolet monte c...</td><td>CHEVROLET MONTE C...</td><td>chevrolet monte c...</td></tr>\n",
       "<tr><td>14.0</td><td>8</td><td>455.0</td><td>225.0</td><td>3086.</td><td>10.0</td><td>1970</td><td>1</td><td>buick estate wago...</td><td>BUICK ESTATE WAGO...</td><td>buick estate wago...</td></tr>\n",
       "<tr><td>24.0</td><td>4</td><td>113.0</td><td>95.00</td><td>2372.</td><td>15.0</td><td>1970</td><td>3</td><td>toyota corona mar...</td><td>TOYOTA CORONA MAR...</td><td>toyota corona mar...</td></tr>\n",
       "<tr><td>22.0</td><td>6</td><td>198.0</td><td>95.00</td><td>2833.</td><td>15.5</td><td>1970</td><td>1</td><td>plymouth duster</td><td>PLYMOUTH DUSTER</td><td>plymouth duster</td></tr>\n",
       "<tr><td>18.0</td><td>6</td><td>199.0</td><td>97.00</td><td>2774.</td><td>15.5</td><td>1970</td><td>1</td><td>amc hornet</td><td>AMC HORNET</td><td>amc hornet</td></tr>\n",
       "<tr><td>21.0</td><td>6</td><td>200.0</td><td>85.00</td><td>2587.</td><td>16.0</td><td>1970</td><td>1</td><td>ford maverick</td><td>FORD MAVERICK</td><td>ford maverick</td></tr>\n",
       "<tr><td>27.0</td><td>4</td><td>97.00</td><td>88.00</td><td>2130.</td><td>14.5</td><td>1970</td><td>3</td><td>datsun pl510</td><td>DATSUN PL510</td><td>datsun pl510</td></tr>\n",
       "<tr><td>26.0</td><td>4</td><td>97.00</td><td>46.00</td><td>1835.</td><td>20.5</td><td>1970</td><td>2</td><td>volkswagen 1131 d...</td><td>VOLKSWAGEN 1131 D...</td><td>volkswagen 1131 d...</td></tr>\n",
       "</table>\n",
       "only showing top 20 rows\n"
      ],
      "text/plain": [
       "+----+---------+------------+----------+------+------------+---------+------+--------------------+--------------------+--------------------+\n",
       "| mpg|cylinders|displacement|horsepower|weight|acceleration|modelyear|origin|             carname|               upper|               lower|\n",
       "+----+---------+------------+----------+------+------------+---------+------+--------------------+--------------------+--------------------+\n",
       "|18.0|        8|       307.0|     130.0| 3504.|        12.0|     1970|     1|chevrolet chevell...|CHEVROLET CHEVELL...|chevrolet chevell...|\n",
       "|15.0|        8|       350.0|     165.0| 3693.|        11.5|     1970|     1|   buick skylark 320|   BUICK SKYLARK 320|   buick skylark 320|\n",
       "|18.0|        8|       318.0|     150.0| 3436.|        11.0|     1970|     1|  plymouth satellite|  PLYMOUTH SATELLITE|  plymouth satellite|\n",
       "|16.0|        8|       304.0|     150.0| 3433.|        12.0|     1970|     1|       amc rebel sst|       AMC REBEL SST|       amc rebel sst|\n",
       "|17.0|        8|       302.0|     140.0| 3449.|        10.5|     1970|     1|         ford torino|         FORD TORINO|         ford torino|\n",
       "|15.0|        8|       429.0|     198.0| 4341.|        10.0|     1970|     1|    ford galaxie 500|    FORD GALAXIE 500|    ford galaxie 500|\n",
       "|14.0|        8|       454.0|     220.0| 4354.|         9.0|     1970|     1|    chevrolet impala|    CHEVROLET IMPALA|    chevrolet impala|\n",
       "|14.0|        8|       440.0|     215.0| 4312.|         8.5|     1970|     1|   plymouth fury iii|   PLYMOUTH FURY III|   plymouth fury iii|\n",
       "|14.0|        8|       455.0|     225.0| 4425.|        10.0|     1970|     1|    pontiac catalina|    PONTIAC CATALINA|    pontiac catalina|\n",
       "|15.0|        8|       390.0|     190.0| 3850.|         8.5|     1970|     1|  amc ambassador dpl|  AMC AMBASSADOR DPL|  amc ambassador dpl|\n",
       "|15.0|        8|       383.0|     170.0| 3563.|        10.0|     1970|     1| dodge challenger se| DODGE CHALLENGER SE| dodge challenger se|\n",
       "|14.0|        8|       340.0|     160.0| 3609.|         8.0|     1970|     1|  plymouth 'cuda 340|  PLYMOUTH 'CUDA 340|  plymouth 'cuda 340|\n",
       "|15.0|        8|       400.0|     150.0| 3761.|         9.5|     1970|     1|chevrolet monte c...|CHEVROLET MONTE C...|chevrolet monte c...|\n",
       "|14.0|        8|       455.0|     225.0| 3086.|        10.0|     1970|     1|buick estate wago...|BUICK ESTATE WAGO...|buick estate wago...|\n",
       "|24.0|        4|       113.0|     95.00| 2372.|        15.0|     1970|     3|toyota corona mar...|TOYOTA CORONA MAR...|toyota corona mar...|\n",
       "|22.0|        6|       198.0|     95.00| 2833.|        15.5|     1970|     1|     plymouth duster|     PLYMOUTH DUSTER|     plymouth duster|\n",
       "|18.0|        6|       199.0|     97.00| 2774.|        15.5|     1970|     1|          amc hornet|          AMC HORNET|          amc hornet|\n",
       "|21.0|        6|       200.0|     85.00| 2587.|        16.0|     1970|     1|       ford maverick|       FORD MAVERICK|       ford maverick|\n",
       "|27.0|        4|       97.00|     88.00| 2130.|        14.5|     1970|     3|        datsun pl510|        DATSUN PL510|        datsun pl510|\n",
       "|26.0|        4|       97.00|     46.00| 1835.|        20.5|     1970|     2|volkswagen 1131 d...|VOLKSWAGEN 1131 D...|volkswagen 1131 d...|\n",
       "+----+---------+------------+----------+------+------------+---------+------+--------------------+--------------------+--------------------+\n",
       "only showing top 20 rows"
      ]
     },
     "execution_count": 10,
     "metadata": {},
     "output_type": "execute_result"
    }
   ],
   "source": [
    "auto_df"
   ]
  },
  {
   "cell_type": "markdown",
   "metadata": {
    "id": "pJoNFwclJa5T"
   },
   "source": [
    "### Inserting a field with multiple conditions"
   ]
  },
  {
   "cell_type": "code",
   "execution_count": null,
   "metadata": {
    "id": "-N9r_FrmJhLY"
   },
   "outputs": [],
   "source": [
    "from pyspark.sql.functions import col, when\n",
    "\n",
    "auto_df = auto_df.withColumn(\n",
    "    \"mpg_class\",\n",
    "    when(col(\"mpg\") <= 20, \"low\")\n",
    "    .when(col(\"mpg\") <= 30, \"mid\")\n",
    "    .when(col(\"mpg\") <= 40, \"high\")\n",
    "    .otherwise(\"very high\"),\n",
    ")"
   ]
  },
  {
   "cell_type": "code",
   "execution_count": null,
   "metadata": {
    "colab": {
     "base_uri": "https://localhost:8080/",
     "height": 529
    },
    "id": "lQZ7kB-aJjgr",
    "outputId": "1f7b8583-b219-4069-e1ae-d9338a10d0d3"
   },
   "outputs": [
    {
     "data": {
      "text/html": [
       "<table border='1'>\n",
       "<tr><th>mpg</th><th>cylinders</th><th>displacement</th><th>horsepower</th><th>weight</th><th>acceleration</th><th>modelyear</th><th>origin</th><th>carname</th><th>upper</th><th>lower</th><th>mpg_class</th></tr>\n",
       "<tr><td>18.0</td><td>8</td><td>307.0</td><td>130.0</td><td>3504.</td><td>12.0</td><td>1970</td><td>1</td><td>chevrolet chevell...</td><td>CHEVROLET CHEVELL...</td><td>chevrolet chevell...</td><td>low</td></tr>\n",
       "<tr><td>15.0</td><td>8</td><td>350.0</td><td>165.0</td><td>3693.</td><td>11.5</td><td>1970</td><td>1</td><td>buick skylark 320</td><td>BUICK SKYLARK 320</td><td>buick skylark 320</td><td>low</td></tr>\n",
       "<tr><td>18.0</td><td>8</td><td>318.0</td><td>150.0</td><td>3436.</td><td>11.0</td><td>1970</td><td>1</td><td>plymouth satellite</td><td>PLYMOUTH SATELLITE</td><td>plymouth satellite</td><td>low</td></tr>\n",
       "<tr><td>16.0</td><td>8</td><td>304.0</td><td>150.0</td><td>3433.</td><td>12.0</td><td>1970</td><td>1</td><td>amc rebel sst</td><td>AMC REBEL SST</td><td>amc rebel sst</td><td>low</td></tr>\n",
       "<tr><td>17.0</td><td>8</td><td>302.0</td><td>140.0</td><td>3449.</td><td>10.5</td><td>1970</td><td>1</td><td>ford torino</td><td>FORD TORINO</td><td>ford torino</td><td>low</td></tr>\n",
       "<tr><td>15.0</td><td>8</td><td>429.0</td><td>198.0</td><td>4341.</td><td>10.0</td><td>1970</td><td>1</td><td>ford galaxie 500</td><td>FORD GALAXIE 500</td><td>ford galaxie 500</td><td>low</td></tr>\n",
       "<tr><td>14.0</td><td>8</td><td>454.0</td><td>220.0</td><td>4354.</td><td>9.0</td><td>1970</td><td>1</td><td>chevrolet impala</td><td>CHEVROLET IMPALA</td><td>chevrolet impala</td><td>low</td></tr>\n",
       "<tr><td>14.0</td><td>8</td><td>440.0</td><td>215.0</td><td>4312.</td><td>8.5</td><td>1970</td><td>1</td><td>plymouth fury iii</td><td>PLYMOUTH FURY III</td><td>plymouth fury iii</td><td>low</td></tr>\n",
       "<tr><td>14.0</td><td>8</td><td>455.0</td><td>225.0</td><td>4425.</td><td>10.0</td><td>1970</td><td>1</td><td>pontiac catalina</td><td>PONTIAC CATALINA</td><td>pontiac catalina</td><td>low</td></tr>\n",
       "<tr><td>15.0</td><td>8</td><td>390.0</td><td>190.0</td><td>3850.</td><td>8.5</td><td>1970</td><td>1</td><td>amc ambassador dpl</td><td>AMC AMBASSADOR DPL</td><td>amc ambassador dpl</td><td>low</td></tr>\n",
       "<tr><td>15.0</td><td>8</td><td>383.0</td><td>170.0</td><td>3563.</td><td>10.0</td><td>1970</td><td>1</td><td>dodge challenger se</td><td>DODGE CHALLENGER SE</td><td>dodge challenger se</td><td>low</td></tr>\n",
       "<tr><td>14.0</td><td>8</td><td>340.0</td><td>160.0</td><td>3609.</td><td>8.0</td><td>1970</td><td>1</td><td>plymouth 'cuda 340</td><td>PLYMOUTH 'CUDA 340</td><td>plymouth 'cuda 340</td><td>low</td></tr>\n",
       "<tr><td>15.0</td><td>8</td><td>400.0</td><td>150.0</td><td>3761.</td><td>9.5</td><td>1970</td><td>1</td><td>chevrolet monte c...</td><td>CHEVROLET MONTE C...</td><td>chevrolet monte c...</td><td>low</td></tr>\n",
       "<tr><td>14.0</td><td>8</td><td>455.0</td><td>225.0</td><td>3086.</td><td>10.0</td><td>1970</td><td>1</td><td>buick estate wago...</td><td>BUICK ESTATE WAGO...</td><td>buick estate wago...</td><td>low</td></tr>\n",
       "<tr><td>24.0</td><td>4</td><td>113.0</td><td>95.00</td><td>2372.</td><td>15.0</td><td>1970</td><td>3</td><td>toyota corona mar...</td><td>TOYOTA CORONA MAR...</td><td>toyota corona mar...</td><td>mid</td></tr>\n",
       "<tr><td>22.0</td><td>6</td><td>198.0</td><td>95.00</td><td>2833.</td><td>15.5</td><td>1970</td><td>1</td><td>plymouth duster</td><td>PLYMOUTH DUSTER</td><td>plymouth duster</td><td>mid</td></tr>\n",
       "<tr><td>18.0</td><td>6</td><td>199.0</td><td>97.00</td><td>2774.</td><td>15.5</td><td>1970</td><td>1</td><td>amc hornet</td><td>AMC HORNET</td><td>amc hornet</td><td>low</td></tr>\n",
       "<tr><td>21.0</td><td>6</td><td>200.0</td><td>85.00</td><td>2587.</td><td>16.0</td><td>1970</td><td>1</td><td>ford maverick</td><td>FORD MAVERICK</td><td>ford maverick</td><td>mid</td></tr>\n",
       "<tr><td>27.0</td><td>4</td><td>97.00</td><td>88.00</td><td>2130.</td><td>14.5</td><td>1970</td><td>3</td><td>datsun pl510</td><td>DATSUN PL510</td><td>datsun pl510</td><td>mid</td></tr>\n",
       "<tr><td>26.0</td><td>4</td><td>97.00</td><td>46.00</td><td>1835.</td><td>20.5</td><td>1970</td><td>2</td><td>volkswagen 1131 d...</td><td>VOLKSWAGEN 1131 D...</td><td>volkswagen 1131 d...</td><td>mid</td></tr>\n",
       "</table>\n",
       "only showing top 20 rows\n"
      ],
      "text/plain": [
       "+----+---------+------------+----------+------+------------+---------+------+--------------------+--------------------+--------------------+---------+\n",
       "| mpg|cylinders|displacement|horsepower|weight|acceleration|modelyear|origin|             carname|               upper|               lower|mpg_class|\n",
       "+----+---------+------------+----------+------+------------+---------+------+--------------------+--------------------+--------------------+---------+\n",
       "|18.0|        8|       307.0|     130.0| 3504.|        12.0|     1970|     1|chevrolet chevell...|CHEVROLET CHEVELL...|chevrolet chevell...|      low|\n",
       "|15.0|        8|       350.0|     165.0| 3693.|        11.5|     1970|     1|   buick skylark 320|   BUICK SKYLARK 320|   buick skylark 320|      low|\n",
       "|18.0|        8|       318.0|     150.0| 3436.|        11.0|     1970|     1|  plymouth satellite|  PLYMOUTH SATELLITE|  plymouth satellite|      low|\n",
       "|16.0|        8|       304.0|     150.0| 3433.|        12.0|     1970|     1|       amc rebel sst|       AMC REBEL SST|       amc rebel sst|      low|\n",
       "|17.0|        8|       302.0|     140.0| 3449.|        10.5|     1970|     1|         ford torino|         FORD TORINO|         ford torino|      low|\n",
       "|15.0|        8|       429.0|     198.0| 4341.|        10.0|     1970|     1|    ford galaxie 500|    FORD GALAXIE 500|    ford galaxie 500|      low|\n",
       "|14.0|        8|       454.0|     220.0| 4354.|         9.0|     1970|     1|    chevrolet impala|    CHEVROLET IMPALA|    chevrolet impala|      low|\n",
       "|14.0|        8|       440.0|     215.0| 4312.|         8.5|     1970|     1|   plymouth fury iii|   PLYMOUTH FURY III|   plymouth fury iii|      low|\n",
       "|14.0|        8|       455.0|     225.0| 4425.|        10.0|     1970|     1|    pontiac catalina|    PONTIAC CATALINA|    pontiac catalina|      low|\n",
       "|15.0|        8|       390.0|     190.0| 3850.|         8.5|     1970|     1|  amc ambassador dpl|  AMC AMBASSADOR DPL|  amc ambassador dpl|      low|\n",
       "|15.0|        8|       383.0|     170.0| 3563.|        10.0|     1970|     1| dodge challenger se| DODGE CHALLENGER SE| dodge challenger se|      low|\n",
       "|14.0|        8|       340.0|     160.0| 3609.|         8.0|     1970|     1|  plymouth 'cuda 340|  PLYMOUTH 'CUDA 340|  plymouth 'cuda 340|      low|\n",
       "|15.0|        8|       400.0|     150.0| 3761.|         9.5|     1970|     1|chevrolet monte c...|CHEVROLET MONTE C...|chevrolet monte c...|      low|\n",
       "|14.0|        8|       455.0|     225.0| 3086.|        10.0|     1970|     1|buick estate wago...|BUICK ESTATE WAGO...|buick estate wago...|      low|\n",
       "|24.0|        4|       113.0|     95.00| 2372.|        15.0|     1970|     3|toyota corona mar...|TOYOTA CORONA MAR...|toyota corona mar...|      mid|\n",
       "|22.0|        6|       198.0|     95.00| 2833.|        15.5|     1970|     1|     plymouth duster|     PLYMOUTH DUSTER|     plymouth duster|      mid|\n",
       "|18.0|        6|       199.0|     97.00| 2774.|        15.5|     1970|     1|          amc hornet|          AMC HORNET|          amc hornet|      low|\n",
       "|21.0|        6|       200.0|     85.00| 2587.|        16.0|     1970|     1|       ford maverick|       FORD MAVERICK|       ford maverick|      mid|\n",
       "|27.0|        4|       97.00|     88.00| 2130.|        14.5|     1970|     3|        datsun pl510|        DATSUN PL510|        datsun pl510|      mid|\n",
       "|26.0|        4|       97.00|     46.00| 1835.|        20.5|     1970|     2|volkswagen 1131 d...|VOLKSWAGEN 1131 D...|volkswagen 1131 d...|      mid|\n",
       "+----+---------+------------+----------+------+------------+---------+------+--------------------+--------------------+--------------------+---------+\n",
       "only showing top 20 rows"
      ]
     },
     "execution_count": 14,
     "metadata": {},
     "output_type": "execute_result"
    }
   ],
   "source": [
    "auto_df"
   ]
  },
  {
   "cell_type": "markdown",
   "metadata": {
    "id": "mbd56oEZJtrp"
   },
   "source": [
    "### Removing a field"
   ]
  },
  {
   "cell_type": "code",
   "execution_count": null,
   "metadata": {
    "id": "IzummQIjJyBb"
   },
   "outputs": [],
   "source": [
    "auto_df = auto_df.drop(\"horsepower\")"
   ]
  },
  {
   "cell_type": "code",
   "execution_count": null,
   "metadata": {
    "colab": {
     "base_uri": "https://localhost:8080/",
     "height": 529
    },
    "id": "OBKYd_YxJ05e",
    "outputId": "19569146-fc93-4e1e-fa30-8bad0067b716"
   },
   "outputs": [
    {
     "data": {
      "text/html": [
       "<table border='1'>\n",
       "<tr><th>mpg</th><th>cylinders</th><th>displacement</th><th>weight</th><th>acceleration</th><th>modelyear</th><th>origin</th><th>carname</th><th>upper</th><th>lower</th><th>mpg_class</th></tr>\n",
       "<tr><td>18.0</td><td>8</td><td>307.0</td><td>3504.</td><td>12.0</td><td>1970</td><td>1</td><td>chevrolet chevell...</td><td>CHEVROLET CHEVELL...</td><td>chevrolet chevell...</td><td>low</td></tr>\n",
       "<tr><td>15.0</td><td>8</td><td>350.0</td><td>3693.</td><td>11.5</td><td>1970</td><td>1</td><td>buick skylark 320</td><td>BUICK SKYLARK 320</td><td>buick skylark 320</td><td>low</td></tr>\n",
       "<tr><td>18.0</td><td>8</td><td>318.0</td><td>3436.</td><td>11.0</td><td>1970</td><td>1</td><td>plymouth satellite</td><td>PLYMOUTH SATELLITE</td><td>plymouth satellite</td><td>low</td></tr>\n",
       "<tr><td>16.0</td><td>8</td><td>304.0</td><td>3433.</td><td>12.0</td><td>1970</td><td>1</td><td>amc rebel sst</td><td>AMC REBEL SST</td><td>amc rebel sst</td><td>low</td></tr>\n",
       "<tr><td>17.0</td><td>8</td><td>302.0</td><td>3449.</td><td>10.5</td><td>1970</td><td>1</td><td>ford torino</td><td>FORD TORINO</td><td>ford torino</td><td>low</td></tr>\n",
       "<tr><td>15.0</td><td>8</td><td>429.0</td><td>4341.</td><td>10.0</td><td>1970</td><td>1</td><td>ford galaxie 500</td><td>FORD GALAXIE 500</td><td>ford galaxie 500</td><td>low</td></tr>\n",
       "<tr><td>14.0</td><td>8</td><td>454.0</td><td>4354.</td><td>9.0</td><td>1970</td><td>1</td><td>chevrolet impala</td><td>CHEVROLET IMPALA</td><td>chevrolet impala</td><td>low</td></tr>\n",
       "<tr><td>14.0</td><td>8</td><td>440.0</td><td>4312.</td><td>8.5</td><td>1970</td><td>1</td><td>plymouth fury iii</td><td>PLYMOUTH FURY III</td><td>plymouth fury iii</td><td>low</td></tr>\n",
       "<tr><td>14.0</td><td>8</td><td>455.0</td><td>4425.</td><td>10.0</td><td>1970</td><td>1</td><td>pontiac catalina</td><td>PONTIAC CATALINA</td><td>pontiac catalina</td><td>low</td></tr>\n",
       "<tr><td>15.0</td><td>8</td><td>390.0</td><td>3850.</td><td>8.5</td><td>1970</td><td>1</td><td>amc ambassador dpl</td><td>AMC AMBASSADOR DPL</td><td>amc ambassador dpl</td><td>low</td></tr>\n",
       "<tr><td>15.0</td><td>8</td><td>383.0</td><td>3563.</td><td>10.0</td><td>1970</td><td>1</td><td>dodge challenger se</td><td>DODGE CHALLENGER SE</td><td>dodge challenger se</td><td>low</td></tr>\n",
       "<tr><td>14.0</td><td>8</td><td>340.0</td><td>3609.</td><td>8.0</td><td>1970</td><td>1</td><td>plymouth 'cuda 340</td><td>PLYMOUTH 'CUDA 340</td><td>plymouth 'cuda 340</td><td>low</td></tr>\n",
       "<tr><td>15.0</td><td>8</td><td>400.0</td><td>3761.</td><td>9.5</td><td>1970</td><td>1</td><td>chevrolet monte c...</td><td>CHEVROLET MONTE C...</td><td>chevrolet monte c...</td><td>low</td></tr>\n",
       "<tr><td>14.0</td><td>8</td><td>455.0</td><td>3086.</td><td>10.0</td><td>1970</td><td>1</td><td>buick estate wago...</td><td>BUICK ESTATE WAGO...</td><td>buick estate wago...</td><td>low</td></tr>\n",
       "<tr><td>24.0</td><td>4</td><td>113.0</td><td>2372.</td><td>15.0</td><td>1970</td><td>3</td><td>toyota corona mar...</td><td>TOYOTA CORONA MAR...</td><td>toyota corona mar...</td><td>mid</td></tr>\n",
       "<tr><td>22.0</td><td>6</td><td>198.0</td><td>2833.</td><td>15.5</td><td>1970</td><td>1</td><td>plymouth duster</td><td>PLYMOUTH DUSTER</td><td>plymouth duster</td><td>mid</td></tr>\n",
       "<tr><td>18.0</td><td>6</td><td>199.0</td><td>2774.</td><td>15.5</td><td>1970</td><td>1</td><td>amc hornet</td><td>AMC HORNET</td><td>amc hornet</td><td>low</td></tr>\n",
       "<tr><td>21.0</td><td>6</td><td>200.0</td><td>2587.</td><td>16.0</td><td>1970</td><td>1</td><td>ford maverick</td><td>FORD MAVERICK</td><td>ford maverick</td><td>mid</td></tr>\n",
       "<tr><td>27.0</td><td>4</td><td>97.00</td><td>2130.</td><td>14.5</td><td>1970</td><td>3</td><td>datsun pl510</td><td>DATSUN PL510</td><td>datsun pl510</td><td>mid</td></tr>\n",
       "<tr><td>26.0</td><td>4</td><td>97.00</td><td>1835.</td><td>20.5</td><td>1970</td><td>2</td><td>volkswagen 1131 d...</td><td>VOLKSWAGEN 1131 D...</td><td>volkswagen 1131 d...</td><td>mid</td></tr>\n",
       "</table>\n",
       "only showing top 20 rows\n"
      ],
      "text/plain": [
       "+----+---------+------------+------+------------+---------+------+--------------------+--------------------+--------------------+---------+\n",
       "| mpg|cylinders|displacement|weight|acceleration|modelyear|origin|             carname|               upper|               lower|mpg_class|\n",
       "+----+---------+------------+------+------------+---------+------+--------------------+--------------------+--------------------+---------+\n",
       "|18.0|        8|       307.0| 3504.|        12.0|     1970|     1|chevrolet chevell...|CHEVROLET CHEVELL...|chevrolet chevell...|      low|\n",
       "|15.0|        8|       350.0| 3693.|        11.5|     1970|     1|   buick skylark 320|   BUICK SKYLARK 320|   buick skylark 320|      low|\n",
       "|18.0|        8|       318.0| 3436.|        11.0|     1970|     1|  plymouth satellite|  PLYMOUTH SATELLITE|  plymouth satellite|      low|\n",
       "|16.0|        8|       304.0| 3433.|        12.0|     1970|     1|       amc rebel sst|       AMC REBEL SST|       amc rebel sst|      low|\n",
       "|17.0|        8|       302.0| 3449.|        10.5|     1970|     1|         ford torino|         FORD TORINO|         ford torino|      low|\n",
       "|15.0|        8|       429.0| 4341.|        10.0|     1970|     1|    ford galaxie 500|    FORD GALAXIE 500|    ford galaxie 500|      low|\n",
       "|14.0|        8|       454.0| 4354.|         9.0|     1970|     1|    chevrolet impala|    CHEVROLET IMPALA|    chevrolet impala|      low|\n",
       "|14.0|        8|       440.0| 4312.|         8.5|     1970|     1|   plymouth fury iii|   PLYMOUTH FURY III|   plymouth fury iii|      low|\n",
       "|14.0|        8|       455.0| 4425.|        10.0|     1970|     1|    pontiac catalina|    PONTIAC CATALINA|    pontiac catalina|      low|\n",
       "|15.0|        8|       390.0| 3850.|         8.5|     1970|     1|  amc ambassador dpl|  AMC AMBASSADOR DPL|  amc ambassador dpl|      low|\n",
       "|15.0|        8|       383.0| 3563.|        10.0|     1970|     1| dodge challenger se| DODGE CHALLENGER SE| dodge challenger se|      low|\n",
       "|14.0|        8|       340.0| 3609.|         8.0|     1970|     1|  plymouth 'cuda 340|  PLYMOUTH 'CUDA 340|  plymouth 'cuda 340|      low|\n",
       "|15.0|        8|       400.0| 3761.|         9.5|     1970|     1|chevrolet monte c...|CHEVROLET MONTE C...|chevrolet monte c...|      low|\n",
       "|14.0|        8|       455.0| 3086.|        10.0|     1970|     1|buick estate wago...|BUICK ESTATE WAGO...|buick estate wago...|      low|\n",
       "|24.0|        4|       113.0| 2372.|        15.0|     1970|     3|toyota corona mar...|TOYOTA CORONA MAR...|toyota corona mar...|      mid|\n",
       "|22.0|        6|       198.0| 2833.|        15.5|     1970|     1|     plymouth duster|     PLYMOUTH DUSTER|     plymouth duster|      mid|\n",
       "|18.0|        6|       199.0| 2774.|        15.5|     1970|     1|          amc hornet|          AMC HORNET|          amc hornet|      low|\n",
       "|21.0|        6|       200.0| 2587.|        16.0|     1970|     1|       ford maverick|       FORD MAVERICK|       ford maverick|      mid|\n",
       "|27.0|        4|       97.00| 2130.|        14.5|     1970|     3|        datsun pl510|        DATSUN PL510|        datsun pl510|      mid|\n",
       "|26.0|        4|       97.00| 1835.|        20.5|     1970|     2|volkswagen 1131 d...|VOLKSWAGEN 1131 D...|volkswagen 1131 d...|      mid|\n",
       "+----+---------+------------+------+------------+---------+------+--------------------+--------------------+--------------------+---------+\n",
       "only showing top 20 rows"
      ]
     },
     "execution_count": 16,
     "metadata": {},
     "output_type": "execute_result"
    }
   ],
   "source": [
    "auto_df"
   ]
  },
  {
   "cell_type": "markdown",
   "metadata": {
    "id": "uCsc1XmHJ4GU"
   },
   "source": [
    "### Choosing particular fields from a Data Frame"
   ]
  },
  {
   "cell_type": "code",
   "execution_count": null,
   "metadata": {
    "id": "Y-9VR45wJ1cJ"
   },
   "outputs": [],
   "source": [
    "df = auto_df.select([\"mpg\", \"cylinders\", \"displacement\"])"
   ]
  },
  {
   "cell_type": "code",
   "execution_count": null,
   "metadata": {
    "colab": {
     "base_uri": "https://localhost:8080/",
     "height": 529
    },
    "id": "K2vpG2s-KA2q",
    "outputId": "81f377e9-ccd3-4777-a75b-eca990ddbf04"
   },
   "outputs": [
    {
     "data": {
      "text/html": [
       "<table border='1'>\n",
       "<tr><th>mpg</th><th>cylinders</th><th>displacement</th></tr>\n",
       "<tr><td>18.0</td><td>8</td><td>307.0</td></tr>\n",
       "<tr><td>15.0</td><td>8</td><td>350.0</td></tr>\n",
       "<tr><td>18.0</td><td>8</td><td>318.0</td></tr>\n",
       "<tr><td>16.0</td><td>8</td><td>304.0</td></tr>\n",
       "<tr><td>17.0</td><td>8</td><td>302.0</td></tr>\n",
       "<tr><td>15.0</td><td>8</td><td>429.0</td></tr>\n",
       "<tr><td>14.0</td><td>8</td><td>454.0</td></tr>\n",
       "<tr><td>14.0</td><td>8</td><td>440.0</td></tr>\n",
       "<tr><td>14.0</td><td>8</td><td>455.0</td></tr>\n",
       "<tr><td>15.0</td><td>8</td><td>390.0</td></tr>\n",
       "<tr><td>15.0</td><td>8</td><td>383.0</td></tr>\n",
       "<tr><td>14.0</td><td>8</td><td>340.0</td></tr>\n",
       "<tr><td>15.0</td><td>8</td><td>400.0</td></tr>\n",
       "<tr><td>14.0</td><td>8</td><td>455.0</td></tr>\n",
       "<tr><td>24.0</td><td>4</td><td>113.0</td></tr>\n",
       "<tr><td>22.0</td><td>6</td><td>198.0</td></tr>\n",
       "<tr><td>18.0</td><td>6</td><td>199.0</td></tr>\n",
       "<tr><td>21.0</td><td>6</td><td>200.0</td></tr>\n",
       "<tr><td>27.0</td><td>4</td><td>97.00</td></tr>\n",
       "<tr><td>26.0</td><td>4</td><td>97.00</td></tr>\n",
       "</table>\n",
       "only showing top 20 rows\n"
      ],
      "text/plain": [
       "+----+---------+------------+\n",
       "| mpg|cylinders|displacement|\n",
       "+----+---------+------------+\n",
       "|18.0|        8|       307.0|\n",
       "|15.0|        8|       350.0|\n",
       "|18.0|        8|       318.0|\n",
       "|16.0|        8|       304.0|\n",
       "|17.0|        8|       302.0|\n",
       "|15.0|        8|       429.0|\n",
       "|14.0|        8|       454.0|\n",
       "|14.0|        8|       440.0|\n",
       "|14.0|        8|       455.0|\n",
       "|15.0|        8|       390.0|\n",
       "|15.0|        8|       383.0|\n",
       "|14.0|        8|       340.0|\n",
       "|15.0|        8|       400.0|\n",
       "|14.0|        8|       455.0|\n",
       "|24.0|        4|       113.0|\n",
       "|22.0|        6|       198.0|\n",
       "|18.0|        6|       199.0|\n",
       "|21.0|        6|       200.0|\n",
       "|27.0|        4|       97.00|\n",
       "|26.0|        4|       97.00|\n",
       "+----+---------+------------+\n",
       "only showing top 20 rows"
      ]
     },
     "execution_count": 18,
     "metadata": {},
     "output_type": "execute_result"
    }
   ],
   "source": [
    "df"
   ]
  },
  {
   "cell_type": "markdown",
   "metadata": {
    "id": "abpdpSo9KCcf"
   },
   "source": [
    "### Determine the dimensions of a Data Frame"
   ]
  },
  {
   "cell_type": "code",
   "execution_count": null,
   "metadata": {
    "colab": {
     "base_uri": "https://localhost:8080/"
    },
    "id": "zR1j_stPKJLw",
    "outputId": "da4b1e07-a528-4146-ce8f-58dcb4ed4fdf"
   },
   "outputs": [
    {
     "data": {
      "text/plain": [
       "398"
      ]
     },
     "execution_count": 19,
     "metadata": {},
     "output_type": "execute_result"
    }
   ],
   "source": [
    "auto_df.count()"
   ]
  },
  {
   "cell_type": "markdown",
   "metadata": {
    "id": "fV1R7Yf4KNAr"
   },
   "source": [
    "### Get the fields data types"
   ]
  },
  {
   "cell_type": "code",
   "execution_count": null,
   "metadata": {
    "colab": {
     "base_uri": "https://localhost:8080/"
    },
    "id": "vDXhyidcKPd6",
    "outputId": "8923377c-0073-4903-fe84-8d4a2fcfebc9"
   },
   "outputs": [
    {
     "data": {
      "text/plain": [
       "[('mpg', 'string'),\n",
       " ('cylinders', 'string'),\n",
       " ('displacement', 'string'),\n",
       " ('weight', 'string'),\n",
       " ('acceleration', 'string'),\n",
       " ('modelyear', 'string'),\n",
       " ('origin', 'string'),\n",
       " ('carname', 'string'),\n",
       " ('upper', 'string'),\n",
       " ('lower', 'string'),\n",
       " ('mpg_class', 'string')]"
      ]
     },
     "execution_count": 20,
     "metadata": {},
     "output_type": "execute_result"
    }
   ],
   "source": [
    "auto_df.dtypes"
   ]
  },
  {
   "cell_type": "markdown",
   "metadata": {
    "id": "c5PFfEa5KW7g"
   },
   "source": [
    "### Implementing a Map-type transformation on a Data Frame"
   ]
  },
  {
   "cell_type": "code",
   "execution_count": null,
   "metadata": {
    "id": "-AfrMVvnKZ-M"
   },
   "outputs": [],
   "source": [
    "def map_function(row):\n",
    "    if row.acceleration is not None:\n",
    "        return [float(row.acceleration) * 10]\n",
    "    else:\n",
    "        return [None]\n",
    "\n",
    "df = auto_df.rdd.map(map_function).toDF()"
   ]
  },
  {
   "cell_type": "code",
   "execution_count": null,
   "metadata": {
    "colab": {
     "base_uri": "https://localhost:8080/",
     "height": 529
    },
    "id": "YN4Zal79KlSM",
    "outputId": "38ae0121-e70d-4ec3-940a-762b7301b5c5"
   },
   "outputs": [
    {
     "data": {
      "text/html": [
       "<table border='1'>\n",
       "<tr><th>_1</th></tr>\n",
       "<tr><td>120.0</td></tr>\n",
       "<tr><td>115.0</td></tr>\n",
       "<tr><td>110.0</td></tr>\n",
       "<tr><td>120.0</td></tr>\n",
       "<tr><td>105.0</td></tr>\n",
       "<tr><td>100.0</td></tr>\n",
       "<tr><td>90.0</td></tr>\n",
       "<tr><td>85.0</td></tr>\n",
       "<tr><td>100.0</td></tr>\n",
       "<tr><td>85.0</td></tr>\n",
       "<tr><td>100.0</td></tr>\n",
       "<tr><td>80.0</td></tr>\n",
       "<tr><td>95.0</td></tr>\n",
       "<tr><td>100.0</td></tr>\n",
       "<tr><td>150.0</td></tr>\n",
       "<tr><td>155.0</td></tr>\n",
       "<tr><td>155.0</td></tr>\n",
       "<tr><td>160.0</td></tr>\n",
       "<tr><td>145.0</td></tr>\n",
       "<tr><td>205.0</td></tr>\n",
       "</table>\n",
       "only showing top 20 rows\n"
      ],
      "text/plain": [
       "+-----+\n",
       "|   _1|\n",
       "+-----+\n",
       "|120.0|\n",
       "|115.0|\n",
       "|110.0|\n",
       "|120.0|\n",
       "|105.0|\n",
       "|100.0|\n",
       "| 90.0|\n",
       "| 85.0|\n",
       "|100.0|\n",
       "| 85.0|\n",
       "|100.0|\n",
       "| 80.0|\n",
       "| 95.0|\n",
       "|100.0|\n",
       "|150.0|\n",
       "|155.0|\n",
       "|155.0|\n",
       "|160.0|\n",
       "|145.0|\n",
       "|205.0|\n",
       "+-----+\n",
       "only showing top 20 rows"
      ]
     },
     "execution_count": 22,
     "metadata": {},
     "output_type": "execute_result"
    }
   ],
   "source": [
    "df"
   ]
  },
  {
   "cell_type": "markdown",
   "metadata": {
    "id": "I4Ks1nnrKsej"
   },
   "source": [
    "### Utilizing the Custom Function on a Data Frame"
   ]
  },
  {
   "cell_type": "code",
   "execution_count": null,
   "metadata": {
    "colab": {
     "base_uri": "https://localhost:8080/",
     "height": 529
    },
    "id": "aCbcAFwoKltx",
    "outputId": "ba15df4f-8714-4e50-87e7-a94e457639cd"
   },
   "outputs": [
    {
     "data": {
      "text/html": [
       "<table border='1'>\n",
       "<tr><th>mpg</th><th>cylinders</th><th>displacement</th><th>weight</th><th>acceleration</th><th>modelyear</th><th>origin</th><th>carname</th><th>upper</th><th>lower</th><th>mpg_class</th><th>manufacturer</th></tr>\n",
       "<tr><td>18.0</td><td>8</td><td>307.0</td><td>3504.</td><td>12.0</td><td>1970</td><td>1</td><td>chevrolet chevell...</td><td>CHEVROLET CHEVELL...</td><td>chevrolet chevell...</td><td>low</td><td>chevrolet</td></tr>\n",
       "<tr><td>15.0</td><td>8</td><td>350.0</td><td>3693.</td><td>11.5</td><td>1970</td><td>1</td><td>buick skylark 320</td><td>BUICK SKYLARK 320</td><td>buick skylark 320</td><td>low</td><td>buick</td></tr>\n",
       "<tr><td>18.0</td><td>8</td><td>318.0</td><td>3436.</td><td>11.0</td><td>1970</td><td>1</td><td>plymouth satellite</td><td>PLYMOUTH SATELLITE</td><td>plymouth satellite</td><td>low</td><td>plymouth</td></tr>\n",
       "<tr><td>16.0</td><td>8</td><td>304.0</td><td>3433.</td><td>12.0</td><td>1970</td><td>1</td><td>amc rebel sst</td><td>AMC REBEL SST</td><td>amc rebel sst</td><td>low</td><td>amc</td></tr>\n",
       "<tr><td>17.0</td><td>8</td><td>302.0</td><td>3449.</td><td>10.5</td><td>1970</td><td>1</td><td>ford torino</td><td>FORD TORINO</td><td>ford torino</td><td>low</td><td>ford</td></tr>\n",
       "<tr><td>15.0</td><td>8</td><td>429.0</td><td>4341.</td><td>10.0</td><td>1970</td><td>1</td><td>ford galaxie 500</td><td>FORD GALAXIE 500</td><td>ford galaxie 500</td><td>low</td><td>ford</td></tr>\n",
       "<tr><td>14.0</td><td>8</td><td>454.0</td><td>4354.</td><td>9.0</td><td>1970</td><td>1</td><td>chevrolet impala</td><td>CHEVROLET IMPALA</td><td>chevrolet impala</td><td>low</td><td>chevrolet</td></tr>\n",
       "<tr><td>14.0</td><td>8</td><td>440.0</td><td>4312.</td><td>8.5</td><td>1970</td><td>1</td><td>plymouth fury iii</td><td>PLYMOUTH FURY III</td><td>plymouth fury iii</td><td>low</td><td>plymouth</td></tr>\n",
       "<tr><td>14.0</td><td>8</td><td>455.0</td><td>4425.</td><td>10.0</td><td>1970</td><td>1</td><td>pontiac catalina</td><td>PONTIAC CATALINA</td><td>pontiac catalina</td><td>low</td><td>pontiac</td></tr>\n",
       "<tr><td>15.0</td><td>8</td><td>390.0</td><td>3850.</td><td>8.5</td><td>1970</td><td>1</td><td>amc ambassador dpl</td><td>AMC AMBASSADOR DPL</td><td>amc ambassador dpl</td><td>low</td><td>amc</td></tr>\n",
       "<tr><td>15.0</td><td>8</td><td>383.0</td><td>3563.</td><td>10.0</td><td>1970</td><td>1</td><td>dodge challenger se</td><td>DODGE CHALLENGER SE</td><td>dodge challenger se</td><td>low</td><td>dodge</td></tr>\n",
       "<tr><td>14.0</td><td>8</td><td>340.0</td><td>3609.</td><td>8.0</td><td>1970</td><td>1</td><td>plymouth 'cuda 340</td><td>PLYMOUTH 'CUDA 340</td><td>plymouth 'cuda 340</td><td>low</td><td>plymouth</td></tr>\n",
       "<tr><td>15.0</td><td>8</td><td>400.0</td><td>3761.</td><td>9.5</td><td>1970</td><td>1</td><td>chevrolet monte c...</td><td>CHEVROLET MONTE C...</td><td>chevrolet monte c...</td><td>low</td><td>chevrolet</td></tr>\n",
       "<tr><td>14.0</td><td>8</td><td>455.0</td><td>3086.</td><td>10.0</td><td>1970</td><td>1</td><td>buick estate wago...</td><td>BUICK ESTATE WAGO...</td><td>buick estate wago...</td><td>low</td><td>buick</td></tr>\n",
       "<tr><td>24.0</td><td>4</td><td>113.0</td><td>2372.</td><td>15.0</td><td>1970</td><td>3</td><td>toyota corona mar...</td><td>TOYOTA CORONA MAR...</td><td>toyota corona mar...</td><td>mid</td><td>toyota</td></tr>\n",
       "<tr><td>22.0</td><td>6</td><td>198.0</td><td>2833.</td><td>15.5</td><td>1970</td><td>1</td><td>plymouth duster</td><td>PLYMOUTH DUSTER</td><td>plymouth duster</td><td>mid</td><td>plymouth</td></tr>\n",
       "<tr><td>18.0</td><td>6</td><td>199.0</td><td>2774.</td><td>15.5</td><td>1970</td><td>1</td><td>amc hornet</td><td>AMC HORNET</td><td>amc hornet</td><td>low</td><td>amc</td></tr>\n",
       "<tr><td>21.0</td><td>6</td><td>200.0</td><td>2587.</td><td>16.0</td><td>1970</td><td>1</td><td>ford maverick</td><td>FORD MAVERICK</td><td>ford maverick</td><td>mid</td><td>ford</td></tr>\n",
       "<tr><td>27.0</td><td>4</td><td>97.00</td><td>2130.</td><td>14.5</td><td>1970</td><td>3</td><td>datsun pl510</td><td>DATSUN PL510</td><td>datsun pl510</td><td>mid</td><td>datsun</td></tr>\n",
       "<tr><td>26.0</td><td>4</td><td>97.00</td><td>1835.</td><td>20.5</td><td>1970</td><td>2</td><td>volkswagen 1131 d...</td><td>VOLKSWAGEN 1131 D...</td><td>volkswagen 1131 d...</td><td>mid</td><td>volkswagen</td></tr>\n",
       "</table>\n",
       "only showing top 20 rows\n"
      ],
      "text/plain": [
       "+----+---------+------------+------+------------+---------+------+--------------------+--------------------+--------------------+---------+------------+\n",
       "| mpg|cylinders|displacement|weight|acceleration|modelyear|origin|             carname|               upper|               lower|mpg_class|manufacturer|\n",
       "+----+---------+------------+------+------------+---------+------+--------------------+--------------------+--------------------+---------+------------+\n",
       "|18.0|        8|       307.0| 3504.|        12.0|     1970|     1|chevrolet chevell...|CHEVROLET CHEVELL...|chevrolet chevell...|      low|   chevrolet|\n",
       "|15.0|        8|       350.0| 3693.|        11.5|     1970|     1|   buick skylark 320|   BUICK SKYLARK 320|   buick skylark 320|      low|       buick|\n",
       "|18.0|        8|       318.0| 3436.|        11.0|     1970|     1|  plymouth satellite|  PLYMOUTH SATELLITE|  plymouth satellite|      low|    plymouth|\n",
       "|16.0|        8|       304.0| 3433.|        12.0|     1970|     1|       amc rebel sst|       AMC REBEL SST|       amc rebel sst|      low|         amc|\n",
       "|17.0|        8|       302.0| 3449.|        10.5|     1970|     1|         ford torino|         FORD TORINO|         ford torino|      low|        ford|\n",
       "|15.0|        8|       429.0| 4341.|        10.0|     1970|     1|    ford galaxie 500|    FORD GALAXIE 500|    ford galaxie 500|      low|        ford|\n",
       "|14.0|        8|       454.0| 4354.|         9.0|     1970|     1|    chevrolet impala|    CHEVROLET IMPALA|    chevrolet impala|      low|   chevrolet|\n",
       "|14.0|        8|       440.0| 4312.|         8.5|     1970|     1|   plymouth fury iii|   PLYMOUTH FURY III|   plymouth fury iii|      low|    plymouth|\n",
       "|14.0|        8|       455.0| 4425.|        10.0|     1970|     1|    pontiac catalina|    PONTIAC CATALINA|    pontiac catalina|      low|     pontiac|\n",
       "|15.0|        8|       390.0| 3850.|         8.5|     1970|     1|  amc ambassador dpl|  AMC AMBASSADOR DPL|  amc ambassador dpl|      low|         amc|\n",
       "|15.0|        8|       383.0| 3563.|        10.0|     1970|     1| dodge challenger se| DODGE CHALLENGER SE| dodge challenger se|      low|       dodge|\n",
       "|14.0|        8|       340.0| 3609.|         8.0|     1970|     1|  plymouth 'cuda 340|  PLYMOUTH 'CUDA 340|  plymouth 'cuda 340|      low|    plymouth|\n",
       "|15.0|        8|       400.0| 3761.|         9.5|     1970|     1|chevrolet monte c...|CHEVROLET MONTE C...|chevrolet monte c...|      low|   chevrolet|\n",
       "|14.0|        8|       455.0| 3086.|        10.0|     1970|     1|buick estate wago...|BUICK ESTATE WAGO...|buick estate wago...|      low|       buick|\n",
       "|24.0|        4|       113.0| 2372.|        15.0|     1970|     3|toyota corona mar...|TOYOTA CORONA MAR...|toyota corona mar...|      mid|      toyota|\n",
       "|22.0|        6|       198.0| 2833.|        15.5|     1970|     1|     plymouth duster|     PLYMOUTH DUSTER|     plymouth duster|      mid|    plymouth|\n",
       "|18.0|        6|       199.0| 2774.|        15.5|     1970|     1|          amc hornet|          AMC HORNET|          amc hornet|      low|         amc|\n",
       "|21.0|        6|       200.0| 2587.|        16.0|     1970|     1|       ford maverick|       FORD MAVERICK|       ford maverick|      mid|        ford|\n",
       "|27.0|        4|       97.00| 2130.|        14.5|     1970|     3|        datsun pl510|        DATSUN PL510|        datsun pl510|      mid|      datsun|\n",
       "|26.0|        4|       97.00| 1835.|        20.5|     1970|     2|volkswagen 1131 d...|VOLKSWAGEN 1131 D...|volkswagen 1131 d...|      mid|  volkswagen|\n",
       "+----+---------+------------+------+------------+---------+------+--------------------+--------------------+--------------------+---------+------------+\n",
       "only showing top 20 rows"
      ]
     },
     "execution_count": 23,
     "metadata": {},
     "output_type": "execute_result"
    }
   ],
   "source": [
    "from pyspark.sql.functions import col, udf\n",
    "from pyspark.sql.types import StringType\n",
    "\n",
    "first_word_udf = udf(lambda x: x.split()[0], StringType())\n",
    "df = auto_df.withColumn(\"manufacturer\", first_word_udf(col(\"carname\")))\n",
    "df"
   ]
  },
  {
   "cell_type": "code",
   "execution_count": null,
   "metadata": {
    "colab": {
     "base_uri": "https://localhost:8080/",
     "height": 529
    },
    "id": "_jfKp6DlMQiO",
    "outputId": "612e26ef-21f4-42e0-e9fa-738d02c06a43"
   },
   "outputs": [
    {
     "data": {
      "text/html": [
       "<table border='1'>\n",
       "<tr><th>mpg</th><th>cylinders</th><th>displacement</th><th>weight</th><th>acceleration</th><th>modelyear</th><th>origin</th><th>carname</th><th>upper</th><th>lower</th><th>mpg_class</th></tr>\n",
       "<tr><td>13.0</td><td>8</td><td>360.0</td><td>3821.</td><td>11.0</td><td>1973</td><td>1</td><td>amc ambassador br...</td><td>AMC AMBASSADOR BR...</td><td>amc ambassador br...</td><td>low</td></tr>\n",
       "<tr><td>15.0</td><td>8</td><td>390.0</td><td>3850.</td><td>8.5</td><td>1970</td><td>1</td><td>amc ambassador dpl</td><td>AMC AMBASSADOR DPL</td><td>amc ambassador dpl</td><td>low</td></tr>\n",
       "<tr><td>17.0</td><td>8</td><td>304.0</td><td>3672.</td><td>11.5</td><td>1972</td><td>1</td><td>amc ambassador sst</td><td>AMC AMBASSADOR SST</td><td>amc ambassador sst</td><td>low</td></tr>\n",
       "<tr><td>19.4</td><td>6</td><td>232.0</td><td>3210.</td><td>17.2</td><td>1978</td><td>1</td><td>amc concord</td><td>AMC CONCORD</td><td>amc concord</td><td>low</td></tr>\n",
       "<tr><td>24.3</td><td>4</td><td>151.0</td><td>3003.</td><td>20.1</td><td>1980</td><td>1</td><td>amc concord</td><td>AMC CONCORD</td><td>amc concord</td><td>mid</td></tr>\n",
       "<tr><td>18.1</td><td>6</td><td>258.0</td><td>3410.</td><td>15.1</td><td>1978</td><td>1</td><td>amc concord d/l</td><td>AMC CONCORD D/L</td><td>amc concord d/l</td><td>low</td></tr>\n",
       "<tr><td>23.0</td><td>4</td><td>151.0</td><td>3035.</td><td>20.5</td><td>1982</td><td>1</td><td>amc concord dl</td><td>AMC CONCORD DL</td><td>amc concord dl</td><td>mid</td></tr>\n",
       "<tr><td>20.2</td><td>6</td><td>232.0</td><td>3265.</td><td>18.2</td><td>1979</td><td>1</td><td>amc concord dl 6</td><td>AMC CONCORD DL 6</td><td>amc concord dl 6</td><td>low</td></tr>\n",
       "<tr><td>21.0</td><td>6</td><td>199.0</td><td>2648.</td><td>15.0</td><td>1970</td><td>1</td><td>amc gremlin</td><td>AMC GREMLIN</td><td>amc gremlin</td><td>mid</td></tr>\n",
       "<tr><td>19.0</td><td>6</td><td>232.0</td><td>2634.</td><td>13.0</td><td>1971</td><td>1</td><td>amc gremlin</td><td>AMC GREMLIN</td><td>amc gremlin</td><td>low</td></tr>\n",
       "<tr><td>18.0</td><td>6</td><td>232.0</td><td>2789.</td><td>15.0</td><td>1973</td><td>1</td><td>amc gremlin</td><td>AMC GREMLIN</td><td>amc gremlin</td><td>low</td></tr>\n",
       "<tr><td>20.0</td><td>6</td><td>232.0</td><td>2914.</td><td>16.0</td><td>1975</td><td>1</td><td>amc gremlin</td><td>AMC GREMLIN</td><td>amc gremlin</td><td>low</td></tr>\n",
       "<tr><td>19.0</td><td>6</td><td>232.0</td><td>2901.</td><td>16.0</td><td>1974</td><td>1</td><td>amc hornet</td><td>AMC HORNET</td><td>amc hornet</td><td>low</td></tr>\n",
       "<tr><td>18.0</td><td>6</td><td>199.0</td><td>2774.</td><td>15.5</td><td>1970</td><td>1</td><td>amc hornet</td><td>AMC HORNET</td><td>amc hornet</td><td>low</td></tr>\n",
       "<tr><td>18.0</td><td>6</td><td>232.0</td><td>2945.</td><td>16.0</td><td>1973</td><td>1</td><td>amc hornet</td><td>AMC HORNET</td><td>amc hornet</td><td>low</td></tr>\n",
       "<tr><td>22.5</td><td>6</td><td>232.0</td><td>3085.</td><td>17.6</td><td>1976</td><td>1</td><td>amc hornet</td><td>AMC HORNET</td><td>amc hornet</td><td>mid</td></tr>\n",
       "<tr><td>18.0</td><td>6</td><td>258.0</td><td>2962.</td><td>13.5</td><td>1971</td><td>1</td><td>amc hornet sporta...</td><td>AMC HORNET SPORTA...</td><td>amc hornet sporta...</td><td>low</td></tr>\n",
       "<tr><td>16.0</td><td>6</td><td>258.0</td><td>3632.</td><td>18.0</td><td>1974</td><td>1</td><td>amc matador</td><td>AMC MATADOR</td><td>amc matador</td><td>low</td></tr>\n",
       "<tr><td>14.0</td><td>8</td><td>304.0</td><td>3672.</td><td>11.5</td><td>1973</td><td>1</td><td>amc matador</td><td>AMC MATADOR</td><td>amc matador</td><td>low</td></tr>\n",
       "<tr><td>15.0</td><td>6</td><td>258.0</td><td>3730.</td><td>19.0</td><td>1975</td><td>1</td><td>amc matador</td><td>AMC MATADOR</td><td>amc matador</td><td>low</td></tr>\n",
       "</table>\n",
       "only showing top 20 rows\n"
      ],
      "text/plain": [
       "+----+---------+------------+------+------------+---------+------+--------------------+--------------------+--------------------+---------+\n",
       "| mpg|cylinders|displacement|weight|acceleration|modelyear|origin|             carname|               upper|               lower|mpg_class|\n",
       "+----+---------+------------+------+------------+---------+------+--------------------+--------------------+--------------------+---------+\n",
       "|13.0|        8|       360.0| 3821.|        11.0|     1973|     1|amc ambassador br...|AMC AMBASSADOR BR...|amc ambassador br...|      low|\n",
       "|15.0|        8|       390.0| 3850.|         8.5|     1970|     1|  amc ambassador dpl|  AMC AMBASSADOR DPL|  amc ambassador dpl|      low|\n",
       "|17.0|        8|       304.0| 3672.|        11.5|     1972|     1|  amc ambassador sst|  AMC AMBASSADOR SST|  amc ambassador sst|      low|\n",
       "|19.4|        6|       232.0| 3210.|        17.2|     1978|     1|         amc concord|         AMC CONCORD|         amc concord|      low|\n",
       "|24.3|        4|       151.0| 3003.|        20.1|     1980|     1|         amc concord|         AMC CONCORD|         amc concord|      mid|\n",
       "|18.1|        6|       258.0| 3410.|        15.1|     1978|     1|     amc concord d/l|     AMC CONCORD D/L|     amc concord d/l|      low|\n",
       "|23.0|        4|       151.0| 3035.|        20.5|     1982|     1|      amc concord dl|      AMC CONCORD DL|      amc concord dl|      mid|\n",
       "|20.2|        6|       232.0| 3265.|        18.2|     1979|     1|    amc concord dl 6|    AMC CONCORD DL 6|    amc concord dl 6|      low|\n",
       "|21.0|        6|       199.0| 2648.|        15.0|     1970|     1|         amc gremlin|         AMC GREMLIN|         amc gremlin|      mid|\n",
       "|19.0|        6|       232.0| 2634.|        13.0|     1971|     1|         amc gremlin|         AMC GREMLIN|         amc gremlin|      low|\n",
       "|18.0|        6|       232.0| 2789.|        15.0|     1973|     1|         amc gremlin|         AMC GREMLIN|         amc gremlin|      low|\n",
       "|20.0|        6|       232.0| 2914.|        16.0|     1975|     1|         amc gremlin|         AMC GREMLIN|         amc gremlin|      low|\n",
       "|19.0|        6|       232.0| 2901.|        16.0|     1974|     1|          amc hornet|          AMC HORNET|          amc hornet|      low|\n",
       "|18.0|        6|       199.0| 2774.|        15.5|     1970|     1|          amc hornet|          AMC HORNET|          amc hornet|      low|\n",
       "|18.0|        6|       232.0| 2945.|        16.0|     1973|     1|          amc hornet|          AMC HORNET|          amc hornet|      low|\n",
       "|22.5|        6|       232.0| 3085.|        17.6|     1976|     1|          amc hornet|          AMC HORNET|          amc hornet|      mid|\n",
       "|18.0|        6|       258.0| 2962.|        13.5|     1971|     1|amc hornet sporta...|AMC HORNET SPORTA...|amc hornet sporta...|      low|\n",
       "|16.0|        6|       258.0| 3632.|        18.0|     1974|     1|         amc matador|         AMC MATADOR|         amc matador|      low|\n",
       "|14.0|        8|       304.0| 3672.|        11.5|     1973|     1|         amc matador|         AMC MATADOR|         amc matador|      low|\n",
       "|15.0|        6|       258.0| 3730.|        19.0|     1975|     1|         amc matador|         AMC MATADOR|         amc matador|      low|\n",
       "+----+---------+------------+------+------------+---------+------+--------------------+--------------------+--------------------+---------+\n",
       "only showing top 20 rows"
      ]
     },
     "execution_count": 30,
     "metadata": {},
     "output_type": "execute_result"
    }
   ],
   "source": [
    "from pyspark.sql.functions import col\n",
    "\n",
    "df = auto_df.orderBy(\"carname\")\n",
    "df"
   ]
  },
  {
   "cell_type": "code",
   "execution_count": null,
   "metadata": {
    "colab": {
     "base_uri": "https://localhost:8080/",
     "height": 529
    },
    "id": "AWumK3LIKzh1",
    "outputId": "fa5ba461-1b30-4bfe-b797-85b808b0e2f6"
   },
   "outputs": [
    {
     "data": {
      "text/html": [
       "<table border='1'>\n",
       "<tr><th>mpg</th><th>cylinders</th><th>displacement</th><th>weight</th><th>acceleration</th><th>modelyear</th><th>origin</th><th>carname</th><th>upper</th><th>lower</th><th>mpg_class</th></tr>\n",
       "<tr><td>31.9</td><td>4</td><td>89.00</td><td>1925.</td><td>14.0</td><td>1979</td><td>2</td><td>vw rabbit custom</td><td>VW RABBIT CUSTOM</td><td>vw rabbit custom</td><td>high</td></tr>\n",
       "<tr><td>44.3</td><td>4</td><td>90.00</td><td>2085.</td><td>21.7</td><td>1980</td><td>2</td><td>vw rabbit c (diesel)</td><td>VW RABBIT C (DIESEL)</td><td>vw rabbit c (diesel)</td><td>very high</td></tr>\n",
       "<tr><td>29.0</td><td>4</td><td>90.00</td><td>1937.</td><td>14.2</td><td>1976</td><td>2</td><td>vw rabbit</td><td>VW RABBIT</td><td>vw rabbit</td><td>mid</td></tr>\n",
       "<tr><td>41.5</td><td>4</td><td>98.00</td><td>2144.</td><td>14.7</td><td>1980</td><td>2</td><td>vw rabbit</td><td>VW RABBIT</td><td>vw rabbit</td><td>very high</td></tr>\n",
       "<tr><td>44.0</td><td>4</td><td>97.00</td><td>2130.</td><td>24.6</td><td>1982</td><td>2</td><td>vw pickup</td><td>VW PICKUP</td><td>vw pickup</td><td>very high</td></tr>\n",
       "<tr><td>43.4</td><td>4</td><td>90.00</td><td>2335.</td><td>23.7</td><td>1980</td><td>2</td><td>vw dasher (diesel)</td><td>VW DASHER (DIESEL)</td><td>vw dasher (diesel)</td><td>very high</td></tr>\n",
       "<tr><td>30.7</td><td>6</td><td>145.0</td><td>3160.</td><td>19.6</td><td>1981</td><td>2</td><td>volvo diesel</td><td>VOLVO DIESEL</td><td>volvo diesel</td><td>mid</td></tr>\n",
       "<tr><td>17.0</td><td>6</td><td>163.0</td><td>3140.</td><td>13.6</td><td>1978</td><td>2</td><td>volvo 264gl</td><td>VOLVO 264GL</td><td>volvo 264gl</td><td>low</td></tr>\n",
       "<tr><td>20.0</td><td>4</td><td>130.0</td><td>3150.</td><td>15.7</td><td>1976</td><td>2</td><td>volvo 245</td><td>VOLVO 245</td><td>volvo 245</td><td>low</td></tr>\n",
       "<tr><td>22.0</td><td>4</td><td>121.0</td><td>2945.</td><td>14.5</td><td>1975</td><td>2</td><td>volvo 244dl</td><td>VOLVO 244DL</td><td>volvo 244dl</td><td>mid</td></tr>\n",
       "<tr><td>18.0</td><td>4</td><td>121.0</td><td>2933.</td><td>14.5</td><td>1972</td><td>2</td><td>volvo 145e (sw)</td><td>VOLVO 145E (SW)</td><td>volvo 145e (sw)</td><td>low</td></tr>\n",
       "<tr><td>19.0</td><td>4</td><td>121.0</td><td>2868.</td><td>15.5</td><td>1973</td><td>2</td><td>volvo 144ea</td><td>VOLVO 144EA</td><td>volvo 144ea</td><td>low</td></tr>\n",
       "<tr><td>23.0</td><td>4</td><td>97.00</td><td>2254.</td><td>23.5</td><td>1972</td><td>2</td><td>volkswagen type 3</td><td>VOLKSWAGEN TYPE 3</td><td>volkswagen type 3</td><td>mid</td></tr>\n",
       "<tr><td>26.0</td><td>4</td><td>97.00</td><td>1950.</td><td>21.0</td><td>1973</td><td>2</td><td>volkswagen super ...</td><td>VOLKSWAGEN SUPER ...</td><td>volkswagen super ...</td><td>mid</td></tr>\n",
       "<tr><td>31.5</td><td>4</td><td>89.00</td><td>1990.</td><td>14.9</td><td>1978</td><td>2</td><td>volkswagen scirocco</td><td>VOLKSWAGEN SCIROCCO</td><td>volkswagen scirocco</td><td>high</td></tr>\n",
       "<tr><td>36.0</td><td>4</td><td>105.0</td><td>1980.</td><td>15.3</td><td>1982</td><td>2</td><td>volkswagen rabbit l</td><td>VOLKSWAGEN RABBIT L</td><td>volkswagen rabbit l</td><td>high</td></tr>\n",
       "<tr><td>43.1</td><td>4</td><td>90.00</td><td>1985.</td><td>21.5</td><td>1978</td><td>2</td><td>volkswagen rabbit...</td><td>VOLKSWAGEN RABBIT...</td><td>volkswagen rabbit...</td><td>very high</td></tr>\n",
       "<tr><td>29.0</td><td>4</td><td>97.00</td><td>1940.</td><td>14.5</td><td>1977</td><td>2</td><td>volkswagen rabbit...</td><td>VOLKSWAGEN RABBIT...</td><td>volkswagen rabbit...</td><td>mid</td></tr>\n",
       "<tr><td>29.0</td><td>4</td><td>90.00</td><td>1937.</td><td>14.0</td><td>1975</td><td>2</td><td>volkswagen rabbit</td><td>VOLKSWAGEN RABBIT</td><td>volkswagen rabbit</td><td>mid</td></tr>\n",
       "<tr><td>29.5</td><td>4</td><td>97.00</td><td>1825.</td><td>12.2</td><td>1976</td><td>2</td><td>volkswagen rabbit</td><td>VOLKSWAGEN RABBIT</td><td>volkswagen rabbit</td><td>mid</td></tr>\n",
       "</table>\n",
       "only showing top 20 rows\n"
      ],
      "text/plain": [
       "+----+---------+------------+------+------------+---------+------+--------------------+--------------------+--------------------+---------+\n",
       "| mpg|cylinders|displacement|weight|acceleration|modelyear|origin|             carname|               upper|               lower|mpg_class|\n",
       "+----+---------+------------+------+------------+---------+------+--------------------+--------------------+--------------------+---------+\n",
       "|31.9|        4|       89.00| 1925.|        14.0|     1979|     2|    vw rabbit custom|    VW RABBIT CUSTOM|    vw rabbit custom|     high|\n",
       "|44.3|        4|       90.00| 2085.|        21.7|     1980|     2|vw rabbit c (diesel)|VW RABBIT C (DIESEL)|vw rabbit c (diesel)|very high|\n",
       "|29.0|        4|       90.00| 1937.|        14.2|     1976|     2|           vw rabbit|           VW RABBIT|           vw rabbit|      mid|\n",
       "|41.5|        4|       98.00| 2144.|        14.7|     1980|     2|           vw rabbit|           VW RABBIT|           vw rabbit|very high|\n",
       "|44.0|        4|       97.00| 2130.|        24.6|     1982|     2|           vw pickup|           VW PICKUP|           vw pickup|very high|\n",
       "|43.4|        4|       90.00| 2335.|        23.7|     1980|     2|  vw dasher (diesel)|  VW DASHER (DIESEL)|  vw dasher (diesel)|very high|\n",
       "|30.7|        6|       145.0| 3160.|        19.6|     1981|     2|        volvo diesel|        VOLVO DIESEL|        volvo diesel|      mid|\n",
       "|17.0|        6|       163.0| 3140.|        13.6|     1978|     2|         volvo 264gl|         VOLVO 264GL|         volvo 264gl|      low|\n",
       "|20.0|        4|       130.0| 3150.|        15.7|     1976|     2|           volvo 245|           VOLVO 245|           volvo 245|      low|\n",
       "|22.0|        4|       121.0| 2945.|        14.5|     1975|     2|         volvo 244dl|         VOLVO 244DL|         volvo 244dl|      mid|\n",
       "|18.0|        4|       121.0| 2933.|        14.5|     1972|     2|     volvo 145e (sw)|     VOLVO 145E (SW)|     volvo 145e (sw)|      low|\n",
       "|19.0|        4|       121.0| 2868.|        15.5|     1973|     2|         volvo 144ea|         VOLVO 144EA|         volvo 144ea|      low|\n",
       "|23.0|        4|       97.00| 2254.|        23.5|     1972|     2|   volkswagen type 3|   VOLKSWAGEN TYPE 3|   volkswagen type 3|      mid|\n",
       "|26.0|        4|       97.00| 1950.|        21.0|     1973|     2|volkswagen super ...|VOLKSWAGEN SUPER ...|volkswagen super ...|      mid|\n",
       "|31.5|        4|       89.00| 1990.|        14.9|     1978|     2| volkswagen scirocco| VOLKSWAGEN SCIROCCO| volkswagen scirocco|     high|\n",
       "|36.0|        4|       105.0| 1980.|        15.3|     1982|     2| volkswagen rabbit l| VOLKSWAGEN RABBIT L| volkswagen rabbit l|     high|\n",
       "|43.1|        4|       90.00| 1985.|        21.5|     1978|     2|volkswagen rabbit...|VOLKSWAGEN RABBIT...|volkswagen rabbit...|very high|\n",
       "|29.0|        4|       97.00| 1940.|        14.5|     1977|     2|volkswagen rabbit...|VOLKSWAGEN RABBIT...|volkswagen rabbit...|      mid|\n",
       "|29.0|        4|       90.00| 1937.|        14.0|     1975|     2|   volkswagen rabbit|   VOLKSWAGEN RABBIT|   volkswagen rabbit|      mid|\n",
       "|29.5|        4|       97.00| 1825.|        12.2|     1976|     2|   volkswagen rabbit|   VOLKSWAGEN RABBIT|   volkswagen rabbit|      mid|\n",
       "+----+---------+------------+------+------------+---------+------+--------------------+--------------------+--------------------+---------+\n",
       "only showing top 20 rows"
      ]
     },
     "execution_count": 31,
     "metadata": {},
     "output_type": "execute_result"
    }
   ],
   "source": [
    "from pyspark.sql.functions import col\n",
    "df = auto_df.orderBy(col(\"carname\").desc())\n",
    "df"
   ]
  },
  {
   "cell_type": "code",
   "execution_count": null,
   "metadata": {
    "colab": {
     "base_uri": "https://localhost:8080/",
     "height": 161
    },
    "id": "bLTsPOBZMb1r",
    "outputId": "8a4eadb4-da12-4e15-856f-4c34dda16eb7"
   },
   "outputs": [
    {
     "data": {
      "text/html": [
       "<table border='1'>\n",
       "<tr><th>cylinders</th></tr>\n",
       "<tr><td>3</td></tr>\n",
       "<tr><td>8</td></tr>\n",
       "<tr><td>5</td></tr>\n",
       "<tr><td>6</td></tr>\n",
       "<tr><td>4</td></tr>\n",
       "</table>\n"
      ],
      "text/plain": [
       "+---------+\n",
       "|cylinders|\n",
       "+---------+\n",
       "|        3|\n",
       "|        8|\n",
       "|        5|\n",
       "|        6|\n",
       "|        4|\n",
       "+---------+"
      ]
     },
     "execution_count": 32,
     "metadata": {},
     "output_type": "execute_result"
    }
   ],
   "source": [
    "df = auto_df.select(\"cylinders\").distinct()\n",
    "df"
   ]
  },
  {
   "cell_type": "code",
   "execution_count": null,
   "metadata": {
    "colab": {
     "base_uri": "https://localhost:8080/",
     "height": 529
    },
    "id": "b9c9SOqgMlw1",
    "outputId": "1259ff73-8d83-40a1-c62b-b15694195a22"
   },
   "outputs": [
    {
     "data": {
      "text/html": [
       "<table border='1'>\n",
       "<tr><th>mpg</th><th>cylinders</th><th>displacement</th><th>weight</th><th>acceleration</th><th>modelyear</th><th>origin</th><th>carname</th><th>upper</th><th>lower</th><th>mpg_class</th></tr>\n",
       "<tr><td>13.0</td><td>8</td><td>360.0</td><td>3821.</td><td>11.0</td><td>1973</td><td>1</td><td>amc ambassador br...</td><td>AMC AMBASSADOR BR...</td><td>amc ambassador br...</td><td>low</td></tr>\n",
       "<tr><td>15.0</td><td>8</td><td>390.0</td><td>3850.</td><td>8.5</td><td>1970</td><td>1</td><td>amc ambassador dpl</td><td>AMC AMBASSADOR DPL</td><td>amc ambassador dpl</td><td>low</td></tr>\n",
       "<tr><td>17.0</td><td>8</td><td>304.0</td><td>3672.</td><td>11.5</td><td>1972</td><td>1</td><td>amc ambassador sst</td><td>AMC AMBASSADOR SST</td><td>amc ambassador sst</td><td>low</td></tr>\n",
       "<tr><td>19.4</td><td>6</td><td>232.0</td><td>3210.</td><td>17.2</td><td>1978</td><td>1</td><td>amc concord</td><td>AMC CONCORD</td><td>amc concord</td><td>low</td></tr>\n",
       "<tr><td>18.1</td><td>6</td><td>258.0</td><td>3410.</td><td>15.1</td><td>1978</td><td>1</td><td>amc concord d/l</td><td>AMC CONCORD D/L</td><td>amc concord d/l</td><td>low</td></tr>\n",
       "<tr><td>23.0</td><td>4</td><td>151.0</td><td>3035.</td><td>20.5</td><td>1982</td><td>1</td><td>amc concord dl</td><td>AMC CONCORD DL</td><td>amc concord dl</td><td>mid</td></tr>\n",
       "<tr><td>20.2</td><td>6</td><td>232.0</td><td>3265.</td><td>18.2</td><td>1979</td><td>1</td><td>amc concord dl 6</td><td>AMC CONCORD DL 6</td><td>amc concord dl 6</td><td>low</td></tr>\n",
       "<tr><td>21.0</td><td>6</td><td>199.0</td><td>2648.</td><td>15.0</td><td>1970</td><td>1</td><td>amc gremlin</td><td>AMC GREMLIN</td><td>amc gremlin</td><td>mid</td></tr>\n",
       "<tr><td>18.0</td><td>6</td><td>199.0</td><td>2774.</td><td>15.5</td><td>1970</td><td>1</td><td>amc hornet</td><td>AMC HORNET</td><td>amc hornet</td><td>low</td></tr>\n",
       "<tr><td>18.0</td><td>6</td><td>258.0</td><td>2962.</td><td>13.5</td><td>1971</td><td>1</td><td>amc hornet sporta...</td><td>AMC HORNET SPORTA...</td><td>amc hornet sporta...</td><td>low</td></tr>\n",
       "<tr><td>18.0</td><td>6</td><td>232.0</td><td>3288.</td><td>15.5</td><td>1971</td><td>1</td><td>amc matador</td><td>AMC MATADOR</td><td>amc matador</td><td>low</td></tr>\n",
       "<tr><td>15.0</td><td>8</td><td>304.0</td><td>3892.</td><td>12.5</td><td>1972</td><td>1</td><td>amc matador (sw)</td><td>AMC MATADOR (SW)</td><td>amc matador (sw)</td><td>low</td></tr>\n",
       "<tr><td>19.0</td><td>6</td><td>232.0</td><td>3211.</td><td>17.0</td><td>1975</td><td>1</td><td>amc pacer</td><td>AMC PACER</td><td>amc pacer</td><td>low</td></tr>\n",
       "<tr><td>17.5</td><td>6</td><td>258.0</td><td>3193.</td><td>17.8</td><td>1976</td><td>1</td><td>amc pacer d/l</td><td>AMC PACER D/L</td><td>amc pacer d/l</td><td>low</td></tr>\n",
       "<tr><td>16.0</td><td>8</td><td>304.0</td><td>3433.</td><td>12.0</td><td>1970</td><td>1</td><td>amc rebel sst</td><td>AMC REBEL SST</td><td>amc rebel sst</td><td>low</td></tr>\n",
       "<tr><td>27.4</td><td>4</td><td>121.0</td><td>2670.</td><td>15.0</td><td>1979</td><td>1</td><td>amc spirit dl</td><td>AMC SPIRIT DL</td><td>amc spirit dl</td><td>mid</td></tr>\n",
       "<tr><td>24.0</td><td>4</td><td>107.0</td><td>2430.</td><td>14.5</td><td>1970</td><td>2</td><td>audi 100 ls</td><td>AUDI 100 LS</td><td>audi 100 ls</td><td>mid</td></tr>\n",
       "<tr><td>20.0</td><td>4</td><td>114.0</td><td>2582.</td><td>14.0</td><td>1973</td><td>2</td><td>audi 100ls</td><td>AUDI 100LS</td><td>audi 100ls</td><td>low</td></tr>\n",
       "<tr><td>34.3</td><td>4</td><td>97.00</td><td>2188.</td><td>15.8</td><td>1980</td><td>2</td><td>audi 4000</td><td>AUDI 4000</td><td>audi 4000</td><td>high</td></tr>\n",
       "<tr><td>20.3</td><td>5</td><td>131.0</td><td>2830.</td><td>15.9</td><td>1978</td><td>2</td><td>audi 5000</td><td>AUDI 5000</td><td>audi 5000</td><td>low</td></tr>\n",
       "</table>\n",
       "only showing top 20 rows\n"
      ],
      "text/plain": [
       "+----+---------+------------+------+------------+---------+------+--------------------+--------------------+--------------------+---------+\n",
       "| mpg|cylinders|displacement|weight|acceleration|modelyear|origin|             carname|               upper|               lower|mpg_class|\n",
       "+----+---------+------------+------+------------+---------+------+--------------------+--------------------+--------------------+---------+\n",
       "|13.0|        8|       360.0| 3821.|        11.0|     1973|     1|amc ambassador br...|AMC AMBASSADOR BR...|amc ambassador br...|      low|\n",
       "|15.0|        8|       390.0| 3850.|         8.5|     1970|     1|  amc ambassador dpl|  AMC AMBASSADOR DPL|  amc ambassador dpl|      low|\n",
       "|17.0|        8|       304.0| 3672.|        11.5|     1972|     1|  amc ambassador sst|  AMC AMBASSADOR SST|  amc ambassador sst|      low|\n",
       "|19.4|        6|       232.0| 3210.|        17.2|     1978|     1|         amc concord|         AMC CONCORD|         amc concord|      low|\n",
       "|18.1|        6|       258.0| 3410.|        15.1|     1978|     1|     amc concord d/l|     AMC CONCORD D/L|     amc concord d/l|      low|\n",
       "|23.0|        4|       151.0| 3035.|        20.5|     1982|     1|      amc concord dl|      AMC CONCORD DL|      amc concord dl|      mid|\n",
       "|20.2|        6|       232.0| 3265.|        18.2|     1979|     1|    amc concord dl 6|    AMC CONCORD DL 6|    amc concord dl 6|      low|\n",
       "|21.0|        6|       199.0| 2648.|        15.0|     1970|     1|         amc gremlin|         AMC GREMLIN|         amc gremlin|      mid|\n",
       "|18.0|        6|       199.0| 2774.|        15.5|     1970|     1|          amc hornet|          AMC HORNET|          amc hornet|      low|\n",
       "|18.0|        6|       258.0| 2962.|        13.5|     1971|     1|amc hornet sporta...|AMC HORNET SPORTA...|amc hornet sporta...|      low|\n",
       "|18.0|        6|       232.0| 3288.|        15.5|     1971|     1|         amc matador|         AMC MATADOR|         amc matador|      low|\n",
       "|15.0|        8|       304.0| 3892.|        12.5|     1972|     1|    amc matador (sw)|    AMC MATADOR (SW)|    amc matador (sw)|      low|\n",
       "|19.0|        6|       232.0| 3211.|        17.0|     1975|     1|           amc pacer|           AMC PACER|           amc pacer|      low|\n",
       "|17.5|        6|       258.0| 3193.|        17.8|     1976|     1|       amc pacer d/l|       AMC PACER D/L|       amc pacer d/l|      low|\n",
       "|16.0|        8|       304.0| 3433.|        12.0|     1970|     1|       amc rebel sst|       AMC REBEL SST|       amc rebel sst|      low|\n",
       "|27.4|        4|       121.0| 2670.|        15.0|     1979|     1|       amc spirit dl|       AMC SPIRIT DL|       amc spirit dl|      mid|\n",
       "|24.0|        4|       107.0| 2430.|        14.5|     1970|     2|         audi 100 ls|         AUDI 100 LS|         audi 100 ls|      mid|\n",
       "|20.0|        4|       114.0| 2582.|        14.0|     1973|     2|          audi 100ls|          AUDI 100LS|          audi 100ls|      low|\n",
       "|34.3|        4|       97.00| 2188.|        15.8|     1980|     2|           audi 4000|           AUDI 4000|           audi 4000|     high|\n",
       "|20.3|        5|       131.0| 2830.|        15.9|     1978|     2|           audi 5000|           AUDI 5000|           audi 5000|      low|\n",
       "+----+---------+------------+------+------------+---------+------+--------------------+--------------------+--------------------+---------+\n",
       "only showing top 20 rows"
      ]
     },
     "execution_count": 33,
     "metadata": {},
     "output_type": "execute_result"
    }
   ],
   "source": [
    "df = auto_df.dropDuplicates([\"carname\"])\n",
    "df"
   ]
  },
  {
   "cell_type": "code",
   "execution_count": null,
   "metadata": {
    "colab": {
     "base_uri": "https://localhost:8080/"
    },
    "id": "o9kuId9AMoer",
    "outputId": "604ac5fd-27fb-4bcf-ae23-88ed99bf7e5b"
   },
   "outputs": [
    {
     "data": {
      "text/plain": [
       "305"
      ]
     },
     "execution_count": 34,
     "metadata": {},
     "output_type": "execute_result"
    }
   ],
   "source": [
    "df.count()"
   ]
  },
  {
   "cell_type": "code",
   "execution_count": null,
   "metadata": {
    "colab": {
     "base_uri": "https://localhost:8080/",
     "height": 161
    },
    "id": "Kt8iK1I6MrmI",
    "outputId": "d5e54aa1-b313-4d49-eea5-d9c3f9708427"
   },
   "outputs": [
    {
     "data": {
      "text/html": [
       "<table border='1'>\n",
       "<tr><th>cylinders</th><th>count</th></tr>\n",
       "<tr><td>3</td><td>4</td></tr>\n",
       "<tr><td>8</td><td>103</td></tr>\n",
       "<tr><td>5</td><td>3</td></tr>\n",
       "<tr><td>6</td><td>84</td></tr>\n",
       "<tr><td>4</td><td>204</td></tr>\n",
       "</table>\n"
      ],
      "text/plain": [
       "+---------+-----+\n",
       "|cylinders|count|\n",
       "+---------+-----+\n",
       "|        3|    4|\n",
       "|        8|  103|\n",
       "|        5|    3|\n",
       "|        6|   84|\n",
       "|        4|  204|\n",
       "+---------+-----+"
      ]
     },
     "execution_count": 36,
     "metadata": {},
     "output_type": "execute_result"
    }
   ],
   "source": [
    "from pyspark.sql.functions import desc\n",
    "\n",
    "# No sorting.\n",
    "df = auto_df.groupBy(\"cylinders\").count()\n",
    "df"
   ]
  },
  {
   "cell_type": "code",
   "execution_count": null,
   "metadata": {
    "colab": {
     "base_uri": "https://localhost:8080/",
     "height": 161
    },
    "id": "TG7BYKVxMwV_",
    "outputId": "e4396f28-100c-4b7d-e887-8c4f93df3d54"
   },
   "outputs": [
    {
     "data": {
      "text/html": [
       "<table border='1'>\n",
       "<tr><th>cylinders</th><th>count</th></tr>\n",
       "<tr><td>4</td><td>204</td></tr>\n",
       "<tr><td>8</td><td>103</td></tr>\n",
       "<tr><td>6</td><td>84</td></tr>\n",
       "<tr><td>3</td><td>4</td></tr>\n",
       "<tr><td>5</td><td>3</td></tr>\n",
       "</table>\n"
      ],
      "text/plain": [
       "+---------+-----+\n",
       "|cylinders|count|\n",
       "+---------+-----+\n",
       "|        4|  204|\n",
       "|        8|  103|\n",
       "|        6|   84|\n",
       "|        3|    4|\n",
       "|        5|    3|\n",
       "+---------+-----+"
      ]
     },
     "execution_count": 37,
     "metadata": {},
     "output_type": "execute_result"
    }
   ],
   "source": [
    "from pyspark.sql.functions import desc\n",
    "\n",
    "# With sorting.\n",
    "df = auto_df.groupBy(\"cylinders\").count().orderBy(desc(\"count\"))\n",
    "df"
   ]
  },
  {
   "cell_type": "code",
   "execution_count": null,
   "metadata": {
    "colab": {
     "base_uri": "https://localhost:8080/",
     "height": 91
    },
    "id": "q7pXxtOlM31I",
    "outputId": "ca5001d3-cd1e-4862-eba3-3c3dea5f2dd6"
   },
   "outputs": [
    {
     "data": {
      "text/html": [
       "<table border='1'>\n",
       "<tr><th>cylinders</th><th>count</th></tr>\n",
       "<tr><td>8</td><td>103</td></tr>\n",
       "<tr><td>4</td><td>204</td></tr>\n",
       "</table>\n"
      ],
      "text/plain": [
       "+---------+-----+\n",
       "|cylinders|count|\n",
       "+---------+-----+\n",
       "|        8|  103|\n",
       "|        4|  204|\n",
       "+---------+-----+"
      ]
     },
     "execution_count": 38,
     "metadata": {},
     "output_type": "execute_result"
    }
   ],
   "source": [
    "from pyspark.sql.functions import col\n",
    "\n",
    "df = auto_df.groupBy(\"cylinders\").count().where(col(\"count\") > 100)\n",
    "df"
   ]
  },
  {
   "cell_type": "markdown",
   "metadata": {
    "id": "PqJ62ydiK4FV"
   },
   "source": [
    "## SQL functionality in Spark"
   ]
  },
  {
   "cell_type": "code",
   "execution_count": null,
   "metadata": {
    "id": "smBcBX9BLgdn"
   },
   "outputs": [],
   "source": [
    "sql_df = spark.read.option(\"header\",True).csv(\"/content/auto-mpg.csv\").createOrReplaceTempView(\"mpgTable\")"
   ]
  },
  {
   "cell_type": "code",
   "execution_count": null,
   "metadata": {
    "id": "odTRh1JYK5Gv"
   },
   "outputs": [],
   "source": [
    "df = spark.sql(\"SELECT carname, weight FROM mpgTable\")"
   ]
  },
  {
   "cell_type": "code",
   "execution_count": null,
   "metadata": {
    "colab": {
     "base_uri": "https://localhost:8080/",
     "height": 529
    },
    "id": "Nijp-t8RLuSQ",
    "outputId": "736c1f9b-d4af-4bf0-8802-39491eca1137"
   },
   "outputs": [
    {
     "data": {
      "text/html": [
       "<table border='1'>\n",
       "<tr><th>carname</th><th>weight</th></tr>\n",
       "<tr><td>chevrolet chevell...</td><td>3504.</td></tr>\n",
       "<tr><td>buick skylark 320</td><td>3693.</td></tr>\n",
       "<tr><td>plymouth satellite</td><td>3436.</td></tr>\n",
       "<tr><td>amc rebel sst</td><td>3433.</td></tr>\n",
       "<tr><td>ford torino</td><td>3449.</td></tr>\n",
       "<tr><td>ford galaxie 500</td><td>4341.</td></tr>\n",
       "<tr><td>chevrolet impala</td><td>4354.</td></tr>\n",
       "<tr><td>plymouth fury iii</td><td>4312.</td></tr>\n",
       "<tr><td>pontiac catalina</td><td>4425.</td></tr>\n",
       "<tr><td>amc ambassador dpl</td><td>3850.</td></tr>\n",
       "<tr><td>dodge challenger se</td><td>3563.</td></tr>\n",
       "<tr><td>plymouth 'cuda 340</td><td>3609.</td></tr>\n",
       "<tr><td>chevrolet monte c...</td><td>3761.</td></tr>\n",
       "<tr><td>buick estate wago...</td><td>3086.</td></tr>\n",
       "<tr><td>toyota corona mar...</td><td>2372.</td></tr>\n",
       "<tr><td>plymouth duster</td><td>2833.</td></tr>\n",
       "<tr><td>amc hornet</td><td>2774.</td></tr>\n",
       "<tr><td>ford maverick</td><td>2587.</td></tr>\n",
       "<tr><td>datsun pl510</td><td>2130.</td></tr>\n",
       "<tr><td>volkswagen 1131 d...</td><td>1835.</td></tr>\n",
       "</table>\n",
       "only showing top 20 rows\n"
      ],
      "text/plain": [
       "+--------------------+------+\n",
       "|             carname|weight|\n",
       "+--------------------+------+\n",
       "|chevrolet chevell...| 3504.|\n",
       "|   buick skylark 320| 3693.|\n",
       "|  plymouth satellite| 3436.|\n",
       "|       amc rebel sst| 3433.|\n",
       "|         ford torino| 3449.|\n",
       "|    ford galaxie 500| 4341.|\n",
       "|    chevrolet impala| 4354.|\n",
       "|   plymouth fury iii| 4312.|\n",
       "|    pontiac catalina| 4425.|\n",
       "|  amc ambassador dpl| 3850.|\n",
       "| dodge challenger se| 3563.|\n",
       "|  plymouth 'cuda 340| 3609.|\n",
       "|chevrolet monte c...| 3761.|\n",
       "|buick estate wago...| 3086.|\n",
       "|toyota corona mar...| 2372.|\n",
       "|     plymouth duster| 2833.|\n",
       "|          amc hornet| 2774.|\n",
       "|       ford maverick| 2587.|\n",
       "|        datsun pl510| 2130.|\n",
       "|volkswagen 1131 d...| 1835.|\n",
       "+--------------------+------+\n",
       "only showing top 20 rows"
      ]
     },
     "execution_count": 28,
     "metadata": {},
     "output_type": "execute_result"
    }
   ],
   "source": [
    "df"
   ]
  },
  {
   "cell_type": "code",
   "execution_count": null,
   "metadata": {
    "colab": {
     "base_uri": "https://localhost:8080/",
     "height": 529
    },
    "id": "giiIQwAML0FH",
    "outputId": "3d47feb8-2a0b-40cc-e202-351b484368f0"
   },
   "outputs": [
    {
     "data": {
      "text/html": [
       "<table border='1'>\n",
       "<tr><th>mpg</th><th>cylinders</th><th>displacement</th><th>horsepower</th><th>weight</th><th>acceleration</th><th>modelyear</th><th>origin</th><th>carname</th></tr>\n",
       "<tr><td>18.0</td><td>8</td><td>307.0</td><td>130.0</td><td>3504.</td><td>12.0</td><td>70</td><td>1</td><td>chevrolet chevell...</td></tr>\n",
       "<tr><td>15.0</td><td>8</td><td>350.0</td><td>165.0</td><td>3693.</td><td>11.5</td><td>70</td><td>1</td><td>buick skylark 320</td></tr>\n",
       "<tr><td>18.0</td><td>8</td><td>318.0</td><td>150.0</td><td>3436.</td><td>11.0</td><td>70</td><td>1</td><td>plymouth satellite</td></tr>\n",
       "<tr><td>16.0</td><td>8</td><td>304.0</td><td>150.0</td><td>3433.</td><td>12.0</td><td>70</td><td>1</td><td>amc rebel sst</td></tr>\n",
       "<tr><td>17.0</td><td>8</td><td>302.0</td><td>140.0</td><td>3449.</td><td>10.5</td><td>70</td><td>1</td><td>ford torino</td></tr>\n",
       "<tr><td>15.0</td><td>8</td><td>429.0</td><td>198.0</td><td>4341.</td><td>10.0</td><td>70</td><td>1</td><td>ford galaxie 500</td></tr>\n",
       "<tr><td>14.0</td><td>8</td><td>454.0</td><td>220.0</td><td>4354.</td><td>9.0</td><td>70</td><td>1</td><td>chevrolet impala</td></tr>\n",
       "<tr><td>14.0</td><td>8</td><td>440.0</td><td>215.0</td><td>4312.</td><td>8.5</td><td>70</td><td>1</td><td>plymouth fury iii</td></tr>\n",
       "<tr><td>14.0</td><td>8</td><td>455.0</td><td>225.0</td><td>4425.</td><td>10.0</td><td>70</td><td>1</td><td>pontiac catalina</td></tr>\n",
       "<tr><td>15.0</td><td>8</td><td>390.0</td><td>190.0</td><td>3850.</td><td>8.5</td><td>70</td><td>1</td><td>amc ambassador dpl</td></tr>\n",
       "<tr><td>15.0</td><td>8</td><td>383.0</td><td>170.0</td><td>3563.</td><td>10.0</td><td>70</td><td>1</td><td>dodge challenger se</td></tr>\n",
       "<tr><td>14.0</td><td>8</td><td>340.0</td><td>160.0</td><td>3609.</td><td>8.0</td><td>70</td><td>1</td><td>plymouth 'cuda 340</td></tr>\n",
       "<tr><td>15.0</td><td>8</td><td>400.0</td><td>150.0</td><td>3761.</td><td>9.5</td><td>70</td><td>1</td><td>chevrolet monte c...</td></tr>\n",
       "<tr><td>14.0</td><td>8</td><td>455.0</td><td>225.0</td><td>3086.</td><td>10.0</td><td>70</td><td>1</td><td>buick estate wago...</td></tr>\n",
       "<tr><td>22.0</td><td>6</td><td>198.0</td><td>95.00</td><td>2833.</td><td>15.5</td><td>70</td><td>1</td><td>plymouth duster</td></tr>\n",
       "<tr><td>18.0</td><td>6</td><td>199.0</td><td>97.00</td><td>2774.</td><td>15.5</td><td>70</td><td>1</td><td>amc hornet</td></tr>\n",
       "<tr><td>21.0</td><td>6</td><td>200.0</td><td>85.00</td><td>2587.</td><td>16.0</td><td>70</td><td>1</td><td>ford maverick</td></tr>\n",
       "<tr><td>21.0</td><td>6</td><td>199.0</td><td>90.00</td><td>2648.</td><td>15.0</td><td>70</td><td>1</td><td>amc gremlin</td></tr>\n",
       "<tr><td>10.0</td><td>8</td><td>360.0</td><td>215.0</td><td>4615.</td><td>14.0</td><td>70</td><td>1</td><td>ford f250</td></tr>\n",
       "<tr><td>10.0</td><td>8</td><td>307.0</td><td>200.0</td><td>4376.</td><td>15.0</td><td>70</td><td>1</td><td>chevy c20</td></tr>\n",
       "</table>\n",
       "only showing top 20 rows\n"
      ],
      "text/plain": [
       "+----+---------+------------+----------+------+------------+---------+------+--------------------+\n",
       "| mpg|cylinders|displacement|horsepower|weight|acceleration|modelyear|origin|             carname|\n",
       "+----+---------+------------+----------+------+------------+---------+------+--------------------+\n",
       "|18.0|        8|       307.0|     130.0| 3504.|        12.0|       70|     1|chevrolet chevell...|\n",
       "|15.0|        8|       350.0|     165.0| 3693.|        11.5|       70|     1|   buick skylark 320|\n",
       "|18.0|        8|       318.0|     150.0| 3436.|        11.0|       70|     1|  plymouth satellite|\n",
       "|16.0|        8|       304.0|     150.0| 3433.|        12.0|       70|     1|       amc rebel sst|\n",
       "|17.0|        8|       302.0|     140.0| 3449.|        10.5|       70|     1|         ford torino|\n",
       "|15.0|        8|       429.0|     198.0| 4341.|        10.0|       70|     1|    ford galaxie 500|\n",
       "|14.0|        8|       454.0|     220.0| 4354.|         9.0|       70|     1|    chevrolet impala|\n",
       "|14.0|        8|       440.0|     215.0| 4312.|         8.5|       70|     1|   plymouth fury iii|\n",
       "|14.0|        8|       455.0|     225.0| 4425.|        10.0|       70|     1|    pontiac catalina|\n",
       "|15.0|        8|       390.0|     190.0| 3850.|         8.5|       70|     1|  amc ambassador dpl|\n",
       "|15.0|        8|       383.0|     170.0| 3563.|        10.0|       70|     1| dodge challenger se|\n",
       "|14.0|        8|       340.0|     160.0| 3609.|         8.0|       70|     1|  plymouth 'cuda 340|\n",
       "|15.0|        8|       400.0|     150.0| 3761.|         9.5|       70|     1|chevrolet monte c...|\n",
       "|14.0|        8|       455.0|     225.0| 3086.|        10.0|       70|     1|buick estate wago...|\n",
       "|22.0|        6|       198.0|     95.00| 2833.|        15.5|       70|     1|     plymouth duster|\n",
       "|18.0|        6|       199.0|     97.00| 2774.|        15.5|       70|     1|          amc hornet|\n",
       "|21.0|        6|       200.0|     85.00| 2587.|        16.0|       70|     1|       ford maverick|\n",
       "|21.0|        6|       199.0|     90.00| 2648.|        15.0|       70|     1|         amc gremlin|\n",
       "|10.0|        8|       360.0|     215.0| 4615.|        14.0|       70|     1|           ford f250|\n",
       "|10.0|        8|       307.0|     200.0| 4376.|        15.0|       70|     1|           chevy c20|\n",
       "+----+---------+------------+----------+------+------------+---------+------+--------------------+\n",
       "only showing top 20 rows"
      ]
     },
     "execution_count": 29,
     "metadata": {},
     "output_type": "execute_result"
    }
   ],
   "source": [
    "df_0 = spark.sql(\"SELECT * FROM mpgTable WHERE cylinders > 4\")\n",
    "df_0"
   ]
  },
  {
   "cell_type": "markdown",
   "metadata": {
    "id": "3U0aU8KVNqtw"
   },
   "source": [
    "## MLlib (Machine Learning library in Spark)"
   ]
  },
  {
   "cell_type": "code",
   "execution_count": null,
   "metadata": {
    "colab": {
     "base_uri": "https://localhost:8080/",
     "height": 529
    },
    "id": "C8QsQdR8ME7L",
    "outputId": "71855227-0eb0-405f-a5a7-01069761531b"
   },
   "outputs": [
    {
     "data": {
      "text/html": [
       "<table border='1'>\n",
       "<tr><th>mpg</th><th>cylinders</th><th>displacement</th><th>weight</th><th>acceleration</th><th>modelyear</th><th>origin</th><th>carname</th><th>upper</th><th>lower</th><th>mpg_class</th></tr>\n",
       "<tr><td>18.0</td><td>8</td><td>307.0</td><td>3504.</td><td>12.0</td><td>1970</td><td>1</td><td>chevrolet chevell...</td><td>CHEVROLET CHEVELL...</td><td>chevrolet chevell...</td><td>low</td></tr>\n",
       "<tr><td>15.0</td><td>8</td><td>350.0</td><td>3693.</td><td>11.5</td><td>1970</td><td>1</td><td>buick skylark 320</td><td>BUICK SKYLARK 320</td><td>buick skylark 320</td><td>low</td></tr>\n",
       "<tr><td>18.0</td><td>8</td><td>318.0</td><td>3436.</td><td>11.0</td><td>1970</td><td>1</td><td>plymouth satellite</td><td>PLYMOUTH SATELLITE</td><td>plymouth satellite</td><td>low</td></tr>\n",
       "<tr><td>16.0</td><td>8</td><td>304.0</td><td>3433.</td><td>12.0</td><td>1970</td><td>1</td><td>amc rebel sst</td><td>AMC REBEL SST</td><td>amc rebel sst</td><td>low</td></tr>\n",
       "<tr><td>17.0</td><td>8</td><td>302.0</td><td>3449.</td><td>10.5</td><td>1970</td><td>1</td><td>ford torino</td><td>FORD TORINO</td><td>ford torino</td><td>low</td></tr>\n",
       "<tr><td>15.0</td><td>8</td><td>429.0</td><td>4341.</td><td>10.0</td><td>1970</td><td>1</td><td>ford galaxie 500</td><td>FORD GALAXIE 500</td><td>ford galaxie 500</td><td>low</td></tr>\n",
       "<tr><td>14.0</td><td>8</td><td>454.0</td><td>4354.</td><td>9.0</td><td>1970</td><td>1</td><td>chevrolet impala</td><td>CHEVROLET IMPALA</td><td>chevrolet impala</td><td>low</td></tr>\n",
       "<tr><td>14.0</td><td>8</td><td>440.0</td><td>4312.</td><td>8.5</td><td>1970</td><td>1</td><td>plymouth fury iii</td><td>PLYMOUTH FURY III</td><td>plymouth fury iii</td><td>low</td></tr>\n",
       "<tr><td>14.0</td><td>8</td><td>455.0</td><td>4425.</td><td>10.0</td><td>1970</td><td>1</td><td>pontiac catalina</td><td>PONTIAC CATALINA</td><td>pontiac catalina</td><td>low</td></tr>\n",
       "<tr><td>15.0</td><td>8</td><td>390.0</td><td>3850.</td><td>8.5</td><td>1970</td><td>1</td><td>amc ambassador dpl</td><td>AMC AMBASSADOR DPL</td><td>amc ambassador dpl</td><td>low</td></tr>\n",
       "<tr><td>15.0</td><td>8</td><td>383.0</td><td>3563.</td><td>10.0</td><td>1970</td><td>1</td><td>dodge challenger se</td><td>DODGE CHALLENGER SE</td><td>dodge challenger se</td><td>low</td></tr>\n",
       "<tr><td>14.0</td><td>8</td><td>340.0</td><td>3609.</td><td>8.0</td><td>1970</td><td>1</td><td>plymouth 'cuda 340</td><td>PLYMOUTH 'CUDA 340</td><td>plymouth 'cuda 340</td><td>low</td></tr>\n",
       "<tr><td>15.0</td><td>8</td><td>400.0</td><td>3761.</td><td>9.5</td><td>1970</td><td>1</td><td>chevrolet monte c...</td><td>CHEVROLET MONTE C...</td><td>chevrolet monte c...</td><td>low</td></tr>\n",
       "<tr><td>14.0</td><td>8</td><td>455.0</td><td>3086.</td><td>10.0</td><td>1970</td><td>1</td><td>buick estate wago...</td><td>BUICK ESTATE WAGO...</td><td>buick estate wago...</td><td>low</td></tr>\n",
       "<tr><td>24.0</td><td>4</td><td>113.0</td><td>2372.</td><td>15.0</td><td>1970</td><td>3</td><td>toyota corona mar...</td><td>TOYOTA CORONA MAR...</td><td>toyota corona mar...</td><td>mid</td></tr>\n",
       "<tr><td>22.0</td><td>6</td><td>198.0</td><td>2833.</td><td>15.5</td><td>1970</td><td>1</td><td>plymouth duster</td><td>PLYMOUTH DUSTER</td><td>plymouth duster</td><td>mid</td></tr>\n",
       "<tr><td>18.0</td><td>6</td><td>199.0</td><td>2774.</td><td>15.5</td><td>1970</td><td>1</td><td>amc hornet</td><td>AMC HORNET</td><td>amc hornet</td><td>low</td></tr>\n",
       "<tr><td>21.0</td><td>6</td><td>200.0</td><td>2587.</td><td>16.0</td><td>1970</td><td>1</td><td>ford maverick</td><td>FORD MAVERICK</td><td>ford maverick</td><td>mid</td></tr>\n",
       "<tr><td>27.0</td><td>4</td><td>97.00</td><td>2130.</td><td>14.5</td><td>1970</td><td>3</td><td>datsun pl510</td><td>DATSUN PL510</td><td>datsun pl510</td><td>mid</td></tr>\n",
       "<tr><td>26.0</td><td>4</td><td>97.00</td><td>1835.</td><td>20.5</td><td>1970</td><td>2</td><td>volkswagen 1131 d...</td><td>VOLKSWAGEN 1131 D...</td><td>volkswagen 1131 d...</td><td>mid</td></tr>\n",
       "</table>\n",
       "only showing top 20 rows\n"
      ],
      "text/plain": [
       "DataFrame[mpg: string, cylinders: string, displacement: string, weight: string, acceleration: string, modelyear: string, origin: string, carname: string, upper: string, lower: string, mpg_class: string]"
      ]
     },
     "execution_count": 51,
     "metadata": {},
     "output_type": "execute_result"
    }
   ],
   "source": [
    "auto_df"
   ]
  },
  {
   "cell_type": "code",
   "execution_count": null,
   "metadata": {
    "colab": {
     "base_uri": "https://localhost:8080/",
     "height": 529
    },
    "id": "9hOBfzqfNung",
    "outputId": "0e39b751-36cb-46cc-a7ba-f1604a3f3404"
   },
   "outputs": [
    {
     "data": {
      "text/html": [
       "<table border='1'>\n",
       "<tr><th>mpg</th><th>cylinders</th><th>displacement</th><th>weight</th><th>acceleration</th><th>modelyear</th><th>origin</th><th>carname</th><th>upper</th><th>lower</th><th>mpg_class</th></tr>\n",
       "<tr><td>18.0</td><td>8</td><td>307.0</td><td>3504.</td><td>12.0</td><td>1970</td><td>1</td><td>chevrolet chevell...</td><td>CHEVROLET CHEVELL...</td><td>chevrolet chevell...</td><td>low</td></tr>\n",
       "<tr><td>15.0</td><td>8</td><td>350.0</td><td>3693.</td><td>11.5</td><td>1970</td><td>1</td><td>buick skylark 320</td><td>BUICK SKYLARK 320</td><td>buick skylark 320</td><td>low</td></tr>\n",
       "<tr><td>18.0</td><td>8</td><td>318.0</td><td>3436.</td><td>11.0</td><td>1970</td><td>1</td><td>plymouth satellite</td><td>PLYMOUTH SATELLITE</td><td>plymouth satellite</td><td>low</td></tr>\n",
       "<tr><td>16.0</td><td>8</td><td>304.0</td><td>3433.</td><td>12.0</td><td>1970</td><td>1</td><td>amc rebel sst</td><td>AMC REBEL SST</td><td>amc rebel sst</td><td>low</td></tr>\n",
       "<tr><td>17.0</td><td>8</td><td>302.0</td><td>3449.</td><td>10.5</td><td>1970</td><td>1</td><td>ford torino</td><td>FORD TORINO</td><td>ford torino</td><td>low</td></tr>\n",
       "<tr><td>15.0</td><td>8</td><td>429.0</td><td>4341.</td><td>10.0</td><td>1970</td><td>1</td><td>ford galaxie 500</td><td>FORD GALAXIE 500</td><td>ford galaxie 500</td><td>low</td></tr>\n",
       "<tr><td>14.0</td><td>8</td><td>454.0</td><td>4354.</td><td>9.0</td><td>1970</td><td>1</td><td>chevrolet impala</td><td>CHEVROLET IMPALA</td><td>chevrolet impala</td><td>low</td></tr>\n",
       "<tr><td>14.0</td><td>8</td><td>440.0</td><td>4312.</td><td>8.5</td><td>1970</td><td>1</td><td>plymouth fury iii</td><td>PLYMOUTH FURY III</td><td>plymouth fury iii</td><td>low</td></tr>\n",
       "<tr><td>14.0</td><td>8</td><td>455.0</td><td>4425.</td><td>10.0</td><td>1970</td><td>1</td><td>pontiac catalina</td><td>PONTIAC CATALINA</td><td>pontiac catalina</td><td>low</td></tr>\n",
       "<tr><td>15.0</td><td>8</td><td>390.0</td><td>3850.</td><td>8.5</td><td>1970</td><td>1</td><td>amc ambassador dpl</td><td>AMC AMBASSADOR DPL</td><td>amc ambassador dpl</td><td>low</td></tr>\n",
       "<tr><td>15.0</td><td>8</td><td>383.0</td><td>3563.</td><td>10.0</td><td>1970</td><td>1</td><td>dodge challenger se</td><td>DODGE CHALLENGER SE</td><td>dodge challenger se</td><td>low</td></tr>\n",
       "<tr><td>14.0</td><td>8</td><td>340.0</td><td>3609.</td><td>8.0</td><td>1970</td><td>1</td><td>plymouth 'cuda 340</td><td>PLYMOUTH 'CUDA 340</td><td>plymouth 'cuda 340</td><td>low</td></tr>\n",
       "<tr><td>15.0</td><td>8</td><td>400.0</td><td>3761.</td><td>9.5</td><td>1970</td><td>1</td><td>chevrolet monte c...</td><td>CHEVROLET MONTE C...</td><td>chevrolet monte c...</td><td>low</td></tr>\n",
       "<tr><td>14.0</td><td>8</td><td>455.0</td><td>3086.</td><td>10.0</td><td>1970</td><td>1</td><td>buick estate wago...</td><td>BUICK ESTATE WAGO...</td><td>buick estate wago...</td><td>low</td></tr>\n",
       "<tr><td>24.0</td><td>4</td><td>113.0</td><td>2372.</td><td>15.0</td><td>1970</td><td>3</td><td>toyota corona mar...</td><td>TOYOTA CORONA MAR...</td><td>toyota corona mar...</td><td>mid</td></tr>\n",
       "<tr><td>22.0</td><td>6</td><td>198.0</td><td>2833.</td><td>15.5</td><td>1970</td><td>1</td><td>plymouth duster</td><td>PLYMOUTH DUSTER</td><td>plymouth duster</td><td>mid</td></tr>\n",
       "<tr><td>18.0</td><td>6</td><td>199.0</td><td>2774.</td><td>15.5</td><td>1970</td><td>1</td><td>amc hornet</td><td>AMC HORNET</td><td>amc hornet</td><td>low</td></tr>\n",
       "<tr><td>21.0</td><td>6</td><td>200.0</td><td>2587.</td><td>16.0</td><td>1970</td><td>1</td><td>ford maverick</td><td>FORD MAVERICK</td><td>ford maverick</td><td>mid</td></tr>\n",
       "<tr><td>27.0</td><td>4</td><td>97.00</td><td>2130.</td><td>14.5</td><td>1970</td><td>3</td><td>datsun pl510</td><td>DATSUN PL510</td><td>datsun pl510</td><td>mid</td></tr>\n",
       "<tr><td>26.0</td><td>4</td><td>97.00</td><td>1835.</td><td>20.5</td><td>1970</td><td>2</td><td>volkswagen 1131 d...</td><td>VOLKSWAGEN 1131 D...</td><td>volkswagen 1131 d...</td><td>mid</td></tr>\n",
       "</table>\n",
       "only showing top 20 rows\n"
      ],
      "text/plain": [
       "DataFrame[mpg: string, cylinders: string, displacement: string, weight: string, acceleration: string, modelyear: string, origin: string, carname: string, upper: string, lower: string, mpg_class: string]"
      ]
     },
     "execution_count": 52,
     "metadata": {},
     "output_type": "execute_result"
    }
   ],
   "source": [
    "auto_df.cache()"
   ]
  },
  {
   "cell_type": "code",
   "execution_count": null,
   "metadata": {
    "id": "8LY-sQIMPkcl"
   },
   "outputs": [],
   "source": [
    "auto_df = auto_df.withColumn(\"cylinders\", col(\"cylinders\").cast(\"int\"))\n",
    "auto_df = auto_df.withColumn(\"displacement\", col(\"displacement\").cast(\"double\"))\n",
    "auto_df = auto_df.withColumn(\"weight\", col(\"weight\").cast(\"double\"))\n",
    "auto_df = auto_df.withColumn(\"acceleration\", col(\"acceleration\").cast(\"double\"))\n",
    "auto_df = auto_df.withColumn(\"modelyear\", col(\"modelyear\").cast(\"int\"))\n",
    "auto_df = auto_df.withColumn(\"origin\", col(\"origin\").cast(\"int\"))\n",
    "auto_df = auto_df.withColumn(\"mpg\", col(\"mpg\").cast(\"int\"))"
   ]
  },
  {
   "cell_type": "code",
   "execution_count": null,
   "metadata": {
    "id": "o6Ag455nOeca"
   },
   "outputs": [],
   "source": [
    "from pyspark.ml.feature import VectorAssembler\n",
    "from pyspark.ml.regression import LinearRegression\n",
    "from pyspark.ml import Pipeline\n",
    "from pyspark.ml.evaluation import RegressionEvaluator"
   ]
  },
  {
   "cell_type": "code",
   "execution_count": null,
   "metadata": {
    "id": "GmfS3Nr3O0f-"
   },
   "outputs": [],
   "source": [
    "# Create a vector assembler to combine features into a single vector\n",
    "feature_columns = [\"cylinders\", \"displacement\", \"weight\", \"acceleration\", \"modelyear\", \"origin\"]\n",
    "vector_assembler = VectorAssembler(inputCols=feature_columns, outputCol=\"features\")"
   ]
  },
  {
   "cell_type": "code",
   "execution_count": null,
   "metadata": {
    "id": "5KS9cNJIO6ux"
   },
   "outputs": [],
   "source": [
    "# Define the linear regression model\n",
    "lr = LinearRegression(featuresCol=\"features\", labelCol=\"mpg\")"
   ]
  },
  {
   "cell_type": "code",
   "execution_count": null,
   "metadata": {
    "id": "eEEq9_iVPAvy"
   },
   "outputs": [],
   "source": [
    "# Create a pipeline with the vector assembler and linear regression model\n",
    "pipeline = Pipeline(stages=[vector_assembler, lr])"
   ]
  },
  {
   "cell_type": "code",
   "execution_count": null,
   "metadata": {
    "id": "tCWRvnKCPC4w"
   },
   "outputs": [],
   "source": [
    "# Split the data into training and testing sets\n",
    "train_data, test_data = auto_df.randomSplit([0.8, 0.2], seed=123)"
   ]
  },
  {
   "cell_type": "code",
   "execution_count": null,
   "metadata": {
    "id": "1EMeO-sVPGJs"
   },
   "outputs": [],
   "source": [
    "# Train the model\n",
    "model = pipeline.fit(train_data)"
   ]
  },
  {
   "cell_type": "code",
   "execution_count": null,
   "metadata": {
    "id": "poyYxYOCPK_4"
   },
   "outputs": [],
   "source": [
    "# Make predictions on the test set\n",
    "predictions = model.transform(test_data)"
   ]
  },
  {
   "cell_type": "code",
   "execution_count": null,
   "metadata": {
    "colab": {
     "base_uri": "https://localhost:8080/"
    },
    "id": "nNV3N4ShP3Q6",
    "outputId": "d8ea449f-18b3-485a-cf59-f8766649bbdc"
   },
   "outputs": [
    {
     "name": "stdout",
     "output_type": "stream",
     "text": [
      "Root Mean Squared Error (RMSE): 3.689063239788798\n"
     ]
    }
   ],
   "source": [
    "# Evaluate the model\n",
    "evaluator = RegressionEvaluator(labelCol=\"mpg\", predictionCol=\"prediction\", metricName=\"rmse\")\n",
    "rmse = evaluator.evaluate(predictions)\n",
    "print(f\"Root Mean Squared Error (RMSE): {rmse}\")"
   ]
  },
  {
   "cell_type": "code",
   "execution_count": null,
   "metadata": {
    "colab": {
     "base_uri": "https://localhost:8080/"
    },
    "id": "YwXAhHd8P7yY",
    "outputId": "3b274028-542e-4443-cc67-9dfd4205658e"
   },
   "outputs": [
    {
     "name": "stdout",
     "output_type": "stream",
     "text": [
      "Coefficients: [-0.2113766306979264,0.018979940192397262,-0.007299472545952028,0.16686018705675226,0.7464019017720807,1.677023007539527]\n",
      "Intercept: -1437.6573615456782\n"
     ]
    }
   ],
   "source": [
    "# Display the coefficients and intercept of the model\n",
    "coefficients = model.stages[-1].coefficients\n",
    "intercept = model.stages[-1].intercept\n",
    "print(f\"Coefficients: {coefficients}\")\n",
    "print(f\"Intercept: {intercept}\")"
   ]
  },
  {
   "cell_type": "markdown",
   "metadata": {
    "id": "CwIYTuqsQOZ9"
   },
   "source": [
    "# END OF Lab #10"
   ]
  },
  {
   "cell_type": "code",
   "execution_count": null,
   "metadata": {
    "id": "zOUXSR58P_O3"
   },
   "outputs": [],
   "source": [
    "kmeans = KMeans(featuresCol=\"scaledFeatures\", k=3)  # Adjust k as needed\n",
    "\n",
    "# Pipeline\n",
    "pipeline = Pipeline(stages=indexers + encoders + [assembler, scaler, kmeans])\n",
    "\n",
    "# Cache the DataFrame\n",
    "auto_df.cache()\n",
    "\n",
    "# Train the model\n",
    "model = pipeline.fit(auto_df)\n",
    "\n",
    "# Save the model\n",
    "model_path = \"/path/to/save/model\"\n",
    "model.write().overwrite().save(model_path)"
   ]
  }
 ],
 "metadata": {
  "colab": {
   "provenance": []
  },
  "kernelspec": {
   "display_name": "Python 3",
   "name": "python3"
  },
  "language_info": {
   "name": "python"
  }
 },
 "nbformat": 4,
 "nbformat_minor": 0
}
